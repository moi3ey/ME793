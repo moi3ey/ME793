{
  "nbformat": 4,
  "nbformat_minor": 0,
  "metadata": {
    "colab": {
      "name": "Assignment_2.ipynb",
      "provenance": [],
      "collapsed_sections": []
    },
    "kernelspec": {
      "name": "python3",
      "display_name": "Python 3"
    },
    "language_info": {
      "name": "python"
    }
  },
  "cells": [
    {
      "cell_type": "markdown",
      "source": [
        "# ME 793 Assignment 2: PCA\n",
        "Moitreyee Sarkar- 18D170020\n"
      ],
      "metadata": {
        "id": "GhoLULTJvgrV"
      }
    },
    {
      "cell_type": "code",
      "source": [
        "#import libraries\n",
        "\n",
        "import numpy as np\n",
        "import pandas as pd\n",
        "from scipy import linalg"
      ],
      "metadata": {
        "id": "d2ZvVAF7w6j2"
      },
      "execution_count": null,
      "outputs": []
    },
    {
      "cell_type": "code",
      "source": [
        "#mounting drive\n",
        "\n",
        "from google.colab import drive\n",
        "drive.mount('/content/drive')"
      ],
      "metadata": {
        "colab": {
          "base_uri": "https://localhost:8080/"
        },
        "id": "TaJqOThw1KNA",
        "outputId": "941361dd-ab82-45a4-e70f-c0591aec0ebd"
      },
      "execution_count": null,
      "outputs": [
        {
          "output_type": "stream",
          "name": "stdout",
          "text": [
            "Drive already mounted at /content/drive; to attempt to forcibly remount, call drive.mount(\"/content/drive\", force_remount=True).\n"
          ]
        }
      ]
    },
    {
      "cell_type": "code",
      "source": [
        "#read excel data file\n",
        "\n",
        "db = pd.read_excel('/content/drive/MyDrive/data_PCA.xlsx')      \n",
        "db"
      ],
      "metadata": {
        "colab": {
          "base_uri": "https://localhost:8080/",
          "height": 363
        },
        "id": "x5wxLKZzy1Dg",
        "outputId": "9003d8f0-750e-48a5-c585-3e35c38e1af3"
      },
      "execution_count": null,
      "outputs": [
        {
          "output_type": "execute_result",
          "data": {
            "text/html": [
              "\n",
              "  <div id=\"df-4329a077-399e-44d5-b853-3849df3d903d\">\n",
              "    <div class=\"colab-df-container\">\n",
              "      <div>\n",
              "<style scoped>\n",
              "    .dataframe tbody tr th:only-of-type {\n",
              "        vertical-align: middle;\n",
              "    }\n",
              "\n",
              "    .dataframe tbody tr th {\n",
              "        vertical-align: top;\n",
              "    }\n",
              "\n",
              "    .dataframe thead th {\n",
              "        text-align: right;\n",
              "    }\n",
              "</style>\n",
              "<table border=\"1\" class=\"dataframe\">\n",
              "  <thead>\n",
              "    <tr style=\"text-align: right;\">\n",
              "      <th></th>\n",
              "      <th>length</th>\n",
              "      <th>width</th>\n",
              "      <th>thickness</th>\n",
              "    </tr>\n",
              "  </thead>\n",
              "  <tbody>\n",
              "    <tr>\n",
              "      <th>0</th>\n",
              "      <td>7</td>\n",
              "      <td>4</td>\n",
              "      <td>3</td>\n",
              "    </tr>\n",
              "    <tr>\n",
              "      <th>1</th>\n",
              "      <td>4</td>\n",
              "      <td>1</td>\n",
              "      <td>8</td>\n",
              "    </tr>\n",
              "    <tr>\n",
              "      <th>2</th>\n",
              "      <td>6</td>\n",
              "      <td>3</td>\n",
              "      <td>5</td>\n",
              "    </tr>\n",
              "    <tr>\n",
              "      <th>3</th>\n",
              "      <td>8</td>\n",
              "      <td>6</td>\n",
              "      <td>1</td>\n",
              "    </tr>\n",
              "    <tr>\n",
              "      <th>4</th>\n",
              "      <td>8</td>\n",
              "      <td>5</td>\n",
              "      <td>7</td>\n",
              "    </tr>\n",
              "    <tr>\n",
              "      <th>5</th>\n",
              "      <td>7</td>\n",
              "      <td>2</td>\n",
              "      <td>9</td>\n",
              "    </tr>\n",
              "    <tr>\n",
              "      <th>6</th>\n",
              "      <td>5</td>\n",
              "      <td>3</td>\n",
              "      <td>3</td>\n",
              "    </tr>\n",
              "    <tr>\n",
              "      <th>7</th>\n",
              "      <td>9</td>\n",
              "      <td>5</td>\n",
              "      <td>8</td>\n",
              "    </tr>\n",
              "    <tr>\n",
              "      <th>8</th>\n",
              "      <td>7</td>\n",
              "      <td>4</td>\n",
              "      <td>5</td>\n",
              "    </tr>\n",
              "    <tr>\n",
              "      <th>9</th>\n",
              "      <td>8</td>\n",
              "      <td>2</td>\n",
              "      <td>2</td>\n",
              "    </tr>\n",
              "  </tbody>\n",
              "</table>\n",
              "</div>\n",
              "      <button class=\"colab-df-convert\" onclick=\"convertToInteractive('df-4329a077-399e-44d5-b853-3849df3d903d')\"\n",
              "              title=\"Convert this dataframe to an interactive table.\"\n",
              "              style=\"display:none;\">\n",
              "        \n",
              "  <svg xmlns=\"http://www.w3.org/2000/svg\" height=\"24px\"viewBox=\"0 0 24 24\"\n",
              "       width=\"24px\">\n",
              "    <path d=\"M0 0h24v24H0V0z\" fill=\"none\"/>\n",
              "    <path d=\"M18.56 5.44l.94 2.06.94-2.06 2.06-.94-2.06-.94-.94-2.06-.94 2.06-2.06.94zm-11 1L8.5 8.5l.94-2.06 2.06-.94-2.06-.94L8.5 2.5l-.94 2.06-2.06.94zm10 10l.94 2.06.94-2.06 2.06-.94-2.06-.94-.94-2.06-.94 2.06-2.06.94z\"/><path d=\"M17.41 7.96l-1.37-1.37c-.4-.4-.92-.59-1.43-.59-.52 0-1.04.2-1.43.59L10.3 9.45l-7.72 7.72c-.78.78-.78 2.05 0 2.83L4 21.41c.39.39.9.59 1.41.59.51 0 1.02-.2 1.41-.59l7.78-7.78 2.81-2.81c.8-.78.8-2.07 0-2.86zM5.41 20L4 18.59l7.72-7.72 1.47 1.35L5.41 20z\"/>\n",
              "  </svg>\n",
              "      </button>\n",
              "      \n",
              "  <style>\n",
              "    .colab-df-container {\n",
              "      display:flex;\n",
              "      flex-wrap:wrap;\n",
              "      gap: 12px;\n",
              "    }\n",
              "\n",
              "    .colab-df-convert {\n",
              "      background-color: #E8F0FE;\n",
              "      border: none;\n",
              "      border-radius: 50%;\n",
              "      cursor: pointer;\n",
              "      display: none;\n",
              "      fill: #1967D2;\n",
              "      height: 32px;\n",
              "      padding: 0 0 0 0;\n",
              "      width: 32px;\n",
              "    }\n",
              "\n",
              "    .colab-df-convert:hover {\n",
              "      background-color: #E2EBFA;\n",
              "      box-shadow: 0px 1px 2px rgba(60, 64, 67, 0.3), 0px 1px 3px 1px rgba(60, 64, 67, 0.15);\n",
              "      fill: #174EA6;\n",
              "    }\n",
              "\n",
              "    [theme=dark] .colab-df-convert {\n",
              "      background-color: #3B4455;\n",
              "      fill: #D2E3FC;\n",
              "    }\n",
              "\n",
              "    [theme=dark] .colab-df-convert:hover {\n",
              "      background-color: #434B5C;\n",
              "      box-shadow: 0px 1px 3px 1px rgba(0, 0, 0, 0.15);\n",
              "      filter: drop-shadow(0px 1px 2px rgba(0, 0, 0, 0.3));\n",
              "      fill: #FFFFFF;\n",
              "    }\n",
              "  </style>\n",
              "\n",
              "      <script>\n",
              "        const buttonEl =\n",
              "          document.querySelector('#df-4329a077-399e-44d5-b853-3849df3d903d button.colab-df-convert');\n",
              "        buttonEl.style.display =\n",
              "          google.colab.kernel.accessAllowed ? 'block' : 'none';\n",
              "\n",
              "        async function convertToInteractive(key) {\n",
              "          const element = document.querySelector('#df-4329a077-399e-44d5-b853-3849df3d903d');\n",
              "          const dataTable =\n",
              "            await google.colab.kernel.invokeFunction('convertToInteractive',\n",
              "                                                     [key], {});\n",
              "          if (!dataTable) return;\n",
              "\n",
              "          const docLinkHtml = 'Like what you see? Visit the ' +\n",
              "            '<a target=\"_blank\" href=https://colab.research.google.com/notebooks/data_table.ipynb>data table notebook</a>'\n",
              "            + ' to learn more about interactive tables.';\n",
              "          element.innerHTML = '';\n",
              "          dataTable['output_type'] = 'display_data';\n",
              "          await google.colab.output.renderOutput(dataTable, element);\n",
              "          const docLink = document.createElement('div');\n",
              "          docLink.innerHTML = docLinkHtml;\n",
              "          element.appendChild(docLink);\n",
              "        }\n",
              "      </script>\n",
              "    </div>\n",
              "  </div>\n",
              "  "
            ],
            "text/plain": [
              "   length  width  thickness\n",
              "0       7      4          3\n",
              "1       4      1          8\n",
              "2       6      3          5\n",
              "3       8      6          1\n",
              "4       8      5          7\n",
              "5       7      2          9\n",
              "6       5      3          3\n",
              "7       9      5          8\n",
              "8       7      4          5\n",
              "9       8      2          2"
            ]
          },
          "metadata": {},
          "execution_count": 30
        }
      ]
    },
    {
      "cell_type": "code",
      "source": [
        "#transform data to array\n",
        "\n",
        "X=db.values              \n",
        "X"
      ],
      "metadata": {
        "colab": {
          "base_uri": "https://localhost:8080/"
        },
        "id": "J_8BpFmQ-hQw",
        "outputId": "aad4fadc-8520-4dfe-9ce4-95f3207a754c"
      },
      "execution_count": null,
      "outputs": [
        {
          "output_type": "execute_result",
          "data": {
            "text/plain": [
              "array([[7, 4, 3],\n",
              "       [4, 1, 8],\n",
              "       [6, 3, 5],\n",
              "       [8, 6, 1],\n",
              "       [8, 5, 7],\n",
              "       [7, 2, 9],\n",
              "       [5, 3, 3],\n",
              "       [9, 5, 8],\n",
              "       [7, 4, 5],\n",
              "       [8, 2, 2]])"
            ]
          },
          "metadata": {},
          "execution_count": 32
        }
      ]
    },
    {
      "cell_type": "markdown",
      "source": [
        "### (a) Write a function for determining PCs of the above dataset X. Standardize your data i.e. use zero mean and normalized data using the ”Standardize” function shown in Tutorial."
      ],
      "metadata": {
        "id": "MiymPUCf0edQ"
      }
    },
    {
      "cell_type": "code",
      "source": [
        "def standardize(a):                     #a here is the input data\n",
        "    mean = sum(a)/len(a)                #computing mean\n",
        "    var = sum((a-mean)**2)/len(a)       #computing variance\n",
        "    snd = (a-mean)/(var**0.5)           #compute zero mean for normalizating data\n",
        "    return snd                          #return snd i.e. Standard Normalized data"
      ],
      "metadata": {
        "id": "h4clCBHf-hTo"
      },
      "execution_count": null,
      "outputs": []
    },
    {
      "cell_type": "code",
      "source": [
        "#scaling the data using zero mean\n",
        "\n",
        "X_scaled= standardize(X)         \n",
        "X_scaled"
      ],
      "metadata": {
        "colab": {
          "base_uri": "https://localhost:8080/"
        },
        "id": "H7KmMgj_-hXA",
        "outputId": "dfaee9d5-a873-412e-d377-ca00d24358f7"
      },
      "execution_count": null,
      "outputs": [
        {
          "output_type": "execute_result",
          "data": {
            "text/plain": [
              "array([[ 0.06917145,  0.33333333, -0.78867155],\n",
              "       [-2.00597195, -1.66666667,  1.08911786],\n",
              "       [-0.62254302, -0.33333333, -0.03755579],\n",
              "       [ 0.76088591,  1.66666667, -1.53978732],\n",
              "       [ 0.76088591,  1.        ,  0.71355998],\n",
              "       [ 0.06917145, -1.        ,  1.46467574],\n",
              "       [-1.31425748, -0.33333333, -0.78867155],\n",
              "       [ 1.45260037,  1.        ,  1.08911786],\n",
              "       [ 0.06917145,  0.33333333, -0.03755579],\n",
              "       [ 0.76088591, -1.        , -1.16422944]])"
            ]
          },
          "metadata": {},
          "execution_count": 35
        }
      ]
    },
    {
      "cell_type": "markdown",
      "source": [
        "### (b) Show the principal vectors i.e. matrix P.\n"
      ],
      "metadata": {
        "id": "DXGsQWOQ0owq"
      }
    },
    {
      "cell_type": "code",
      "source": [
        "#getting the shape of the scaled matrix\n",
        "\n",
        "n, m = X_scaled.shape                \n",
        "X_scaled.shape    "
      ],
      "metadata": {
        "colab": {
          "base_uri": "https://localhost:8080/"
        },
        "id": "YJhtjEhj2Eux",
        "outputId": "53cb4bd6-a118-438a-d6c9-8777f0a919c6"
      },
      "execution_count": null,
      "outputs": [
        {
          "output_type": "execute_result",
          "data": {
            "text/plain": [
              "(10, 3)"
            ]
          },
          "metadata": {},
          "execution_count": 36
        }
      ]
    },
    {
      "cell_type": "code",
      "source": [
        "#Computing the covariance matrix\n",
        "\n",
        "cov_X = np.dot(X_scaled.T,  X_scaled ) / (n-1)      \n",
        "cov_X"
      ],
      "metadata": {
        "colab": {
          "base_uri": "https://localhost:8080/"
        },
        "id": "rLkhgFwO50h7",
        "outputId": "201f0679-fd44-4163-f4a3-8eaac4040623"
      },
      "execution_count": null,
      "outputs": [
        {
          "output_type": "execute_result",
          "data": {
            "text/plain": [
              "array([[ 1.11111111,  0.74295257, -0.11257082],\n",
              "       [ 0.74295257,  1.11111111, -0.31991968],\n",
              "       [-0.11257082, -0.31991968,  1.11111111]])"
            ]
          },
          "metadata": {},
          "execution_count": 38
        }
      ]
    },
    {
      "cell_type": "code",
      "source": [
        "eigen_values, eigen_vectors = np.linalg.eig(cov_X)         #computing eigen values and vectors\n",
        "print(\"eigen values\", eigen_values)                        #unsorted eigen values\n",
        "print(\"eigen vectors\", eigen_vectors)                      #unsorted eigen vectors"
      ],
      "metadata": {
        "colab": {
          "base_uri": "https://localhost:8080/"
        },
        "id": "SjdP0J9h50k_",
        "outputId": "6f48d62d-e0f0-4aeb-85e1-bb85f2da317b"
      },
      "execution_count": null,
      "outputs": [
        {
          "output_type": "stream",
          "name": "stdout",
          "text": [
            "eigen values [1.9653046  0.33794439 1.03008435]\n",
            "eigen vectors [[-0.64200458 -0.66321742  0.38467229]\n",
            " [-0.68636164  0.72074503  0.09713033]\n",
            " [ 0.34166917  0.20166619  0.91792861]]\n"
          ]
        }
      ]
    },
    {
      "cell_type": "code",
      "source": [
        "idx = eigen_values.argsort()[::-1]   \n",
        "eigenValues = eigen_values[idx]\n",
        "eigenVectors = eigen_vectors[:,idx]\n",
        "print(\"sorted eigen values\", eigenValues)                #unsorted eigen values\n",
        "print(\"sorted eigen vectors\", eigenVectors)              #unsorted eigen vectors"
      ],
      "metadata": {
        "colab": {
          "base_uri": "https://localhost:8080/"
        },
        "id": "-Lj0t5NyLcfA",
        "outputId": "0d8e5a81-968a-4e84-e85a-1e678dae4517"
      },
      "execution_count": null,
      "outputs": [
        {
          "output_type": "stream",
          "name": "stdout",
          "text": [
            "sorted eigen values [1.9653046  1.03008435 0.33794439]\n",
            "sorted eigen vectors [[-0.64200458  0.38467229 -0.66321742]\n",
            " [-0.68636164  0.09713033  0.72074503]\n",
            " [ 0.34166917  0.91792861  0.20166619]]\n"
          ]
        }
      ]
    },
    {
      "cell_type": "code",
      "source": [
        "print(\"Principal vectors\", eigenVectors.T)          #displaying principal vectors "
      ],
      "metadata": {
        "colab": {
          "base_uri": "https://localhost:8080/"
        },
        "id": "3rNm_TJ0Wm7U",
        "outputId": "76a31268-e6c0-4c6c-950f-d1d175169a38"
      },
      "execution_count": null,
      "outputs": [
        {
          "output_type": "stream",
          "name": "stdout",
          "text": [
            "Principal vectors [[-0.64200458 -0.68636164  0.34166917]\n",
            " [ 0.38467229  0.09713033  0.91792861]\n",
            " [-0.66321742  0.72074503  0.20166619]]\n"
          ]
        }
      ]
    },
    {
      "cell_type": "markdown",
      "source": [
        "\n",
        "### (c) Show the transformed data Y .\n"
      ],
      "metadata": {
        "id": "E5tqfcosBzLW"
      }
    },
    {
      "cell_type": "code",
      "source": [
        "#transformed data\n",
        "\n",
        "Y = np.dot(X_scaled, eigenVectors)        \n",
        "Y"
      ],
      "metadata": {
        "colab": {
          "base_uri": "https://localhost:8080/"
        },
        "id": "PJStfDLI50nx",
        "outputId": "078b2206-f7c1-4251-b214-7e8844a12ed2"
      },
      "execution_count": null,
      "outputs": [
        {
          "output_type": "execute_result",
          "data": {
            "text/plain": [
              "array([[-0.54266035, -0.66495907,  0.03532425],\n",
              "       [ 2.80389723,  0.06620673,  0.34879208],\n",
              "       [ 0.61563102, -0.30632536,  0.1650593 ],\n",
              "       [-2.15852616, -0.95883922,  0.38608588],\n",
              "       [-0.93105243,  1.04481917,  0.36001316],\n",
              "       [ 1.1423878 ,  1.27394577, -0.47124516],\n",
              "       [ 0.80308178, -1.2618794 ,  0.47234173],\n",
              "       [-1.24681973,  1.65563789, -0.0230066 ],\n",
              "       [-0.28602725,  0.02451158,  0.1867989 ],\n",
              "       [-0.1999119 , -0.87311811, -1.46016354]])"
            ]
          },
          "metadata": {},
          "execution_count": 45
        }
      ]
    },
    {
      "cell_type": "code",
      "source": [
        "pc1 = X_scaled.dot(eigenVectors.T[0])\n",
        "pc2 = X_scaled.dot(eigenVectors.T[1])\n",
        "pc3 = X_scaled.dot(eigenVectors.T[2])\n",
        "\n",
        "res = pd.DataFrame(pc1, columns=[\"PC1\"])      #creating pandas dataframe for better visualisation \n",
        "res[\"PC2\"] = pc2\n",
        "res[\"PC3\"] = pc3\n",
        "\n",
        "res               #all 3 principal components "
      ],
      "metadata": {
        "colab": {
          "base_uri": "https://localhost:8080/",
          "height": 363
        },
        "id": "L_QYYNQYbJA7",
        "outputId": "ec5132ae-9121-4dcc-ed15-1d73aa5b6f9c"
      },
      "execution_count": null,
      "outputs": [
        {
          "output_type": "execute_result",
          "data": {
            "text/html": [
              "\n",
              "  <div id=\"df-9d53fcf0-b0e8-48b9-8469-12729e8ab757\">\n",
              "    <div class=\"colab-df-container\">\n",
              "      <div>\n",
              "<style scoped>\n",
              "    .dataframe tbody tr th:only-of-type {\n",
              "        vertical-align: middle;\n",
              "    }\n",
              "\n",
              "    .dataframe tbody tr th {\n",
              "        vertical-align: top;\n",
              "    }\n",
              "\n",
              "    .dataframe thead th {\n",
              "        text-align: right;\n",
              "    }\n",
              "</style>\n",
              "<table border=\"1\" class=\"dataframe\">\n",
              "  <thead>\n",
              "    <tr style=\"text-align: right;\">\n",
              "      <th></th>\n",
              "      <th>PC1</th>\n",
              "      <th>PC2</th>\n",
              "      <th>PC3</th>\n",
              "    </tr>\n",
              "  </thead>\n",
              "  <tbody>\n",
              "    <tr>\n",
              "      <th>0</th>\n",
              "      <td>-0.542660</td>\n",
              "      <td>-0.664959</td>\n",
              "      <td>0.035324</td>\n",
              "    </tr>\n",
              "    <tr>\n",
              "      <th>1</th>\n",
              "      <td>2.803897</td>\n",
              "      <td>0.066207</td>\n",
              "      <td>0.348792</td>\n",
              "    </tr>\n",
              "    <tr>\n",
              "      <th>2</th>\n",
              "      <td>0.615631</td>\n",
              "      <td>-0.306325</td>\n",
              "      <td>0.165059</td>\n",
              "    </tr>\n",
              "    <tr>\n",
              "      <th>3</th>\n",
              "      <td>-2.158526</td>\n",
              "      <td>-0.958839</td>\n",
              "      <td>0.386086</td>\n",
              "    </tr>\n",
              "    <tr>\n",
              "      <th>4</th>\n",
              "      <td>-0.931052</td>\n",
              "      <td>1.044819</td>\n",
              "      <td>0.360013</td>\n",
              "    </tr>\n",
              "    <tr>\n",
              "      <th>5</th>\n",
              "      <td>1.142388</td>\n",
              "      <td>1.273946</td>\n",
              "      <td>-0.471245</td>\n",
              "    </tr>\n",
              "    <tr>\n",
              "      <th>6</th>\n",
              "      <td>0.803082</td>\n",
              "      <td>-1.261879</td>\n",
              "      <td>0.472342</td>\n",
              "    </tr>\n",
              "    <tr>\n",
              "      <th>7</th>\n",
              "      <td>-1.246820</td>\n",
              "      <td>1.655638</td>\n",
              "      <td>-0.023007</td>\n",
              "    </tr>\n",
              "    <tr>\n",
              "      <th>8</th>\n",
              "      <td>-0.286027</td>\n",
              "      <td>0.024512</td>\n",
              "      <td>0.186799</td>\n",
              "    </tr>\n",
              "    <tr>\n",
              "      <th>9</th>\n",
              "      <td>-0.199912</td>\n",
              "      <td>-0.873118</td>\n",
              "      <td>-1.460164</td>\n",
              "    </tr>\n",
              "  </tbody>\n",
              "</table>\n",
              "</div>\n",
              "      <button class=\"colab-df-convert\" onclick=\"convertToInteractive('df-9d53fcf0-b0e8-48b9-8469-12729e8ab757')\"\n",
              "              title=\"Convert this dataframe to an interactive table.\"\n",
              "              style=\"display:none;\">\n",
              "        \n",
              "  <svg xmlns=\"http://www.w3.org/2000/svg\" height=\"24px\"viewBox=\"0 0 24 24\"\n",
              "       width=\"24px\">\n",
              "    <path d=\"M0 0h24v24H0V0z\" fill=\"none\"/>\n",
              "    <path d=\"M18.56 5.44l.94 2.06.94-2.06 2.06-.94-2.06-.94-.94-2.06-.94 2.06-2.06.94zm-11 1L8.5 8.5l.94-2.06 2.06-.94-2.06-.94L8.5 2.5l-.94 2.06-2.06.94zm10 10l.94 2.06.94-2.06 2.06-.94-2.06-.94-.94-2.06-.94 2.06-2.06.94z\"/><path d=\"M17.41 7.96l-1.37-1.37c-.4-.4-.92-.59-1.43-.59-.52 0-1.04.2-1.43.59L10.3 9.45l-7.72 7.72c-.78.78-.78 2.05 0 2.83L4 21.41c.39.39.9.59 1.41.59.51 0 1.02-.2 1.41-.59l7.78-7.78 2.81-2.81c.8-.78.8-2.07 0-2.86zM5.41 20L4 18.59l7.72-7.72 1.47 1.35L5.41 20z\"/>\n",
              "  </svg>\n",
              "      </button>\n",
              "      \n",
              "  <style>\n",
              "    .colab-df-container {\n",
              "      display:flex;\n",
              "      flex-wrap:wrap;\n",
              "      gap: 12px;\n",
              "    }\n",
              "\n",
              "    .colab-df-convert {\n",
              "      background-color: #E8F0FE;\n",
              "      border: none;\n",
              "      border-radius: 50%;\n",
              "      cursor: pointer;\n",
              "      display: none;\n",
              "      fill: #1967D2;\n",
              "      height: 32px;\n",
              "      padding: 0 0 0 0;\n",
              "      width: 32px;\n",
              "    }\n",
              "\n",
              "    .colab-df-convert:hover {\n",
              "      background-color: #E2EBFA;\n",
              "      box-shadow: 0px 1px 2px rgba(60, 64, 67, 0.3), 0px 1px 3px 1px rgba(60, 64, 67, 0.15);\n",
              "      fill: #174EA6;\n",
              "    }\n",
              "\n",
              "    [theme=dark] .colab-df-convert {\n",
              "      background-color: #3B4455;\n",
              "      fill: #D2E3FC;\n",
              "    }\n",
              "\n",
              "    [theme=dark] .colab-df-convert:hover {\n",
              "      background-color: #434B5C;\n",
              "      box-shadow: 0px 1px 3px 1px rgba(0, 0, 0, 0.15);\n",
              "      filter: drop-shadow(0px 1px 2px rgba(0, 0, 0, 0.3));\n",
              "      fill: #FFFFFF;\n",
              "    }\n",
              "  </style>\n",
              "\n",
              "      <script>\n",
              "        const buttonEl =\n",
              "          document.querySelector('#df-9d53fcf0-b0e8-48b9-8469-12729e8ab757 button.colab-df-convert');\n",
              "        buttonEl.style.display =\n",
              "          google.colab.kernel.accessAllowed ? 'block' : 'none';\n",
              "\n",
              "        async function convertToInteractive(key) {\n",
              "          const element = document.querySelector('#df-9d53fcf0-b0e8-48b9-8469-12729e8ab757');\n",
              "          const dataTable =\n",
              "            await google.colab.kernel.invokeFunction('convertToInteractive',\n",
              "                                                     [key], {});\n",
              "          if (!dataTable) return;\n",
              "\n",
              "          const docLinkHtml = 'Like what you see? Visit the ' +\n",
              "            '<a target=\"_blank\" href=https://colab.research.google.com/notebooks/data_table.ipynb>data table notebook</a>'\n",
              "            + ' to learn more about interactive tables.';\n",
              "          element.innerHTML = '';\n",
              "          dataTable['output_type'] = 'display_data';\n",
              "          await google.colab.output.renderOutput(dataTable, element);\n",
              "          const docLink = document.createElement('div');\n",
              "          docLink.innerHTML = docLinkHtml;\n",
              "          element.appendChild(docLink);\n",
              "        }\n",
              "      </script>\n",
              "    </div>\n",
              "  </div>\n",
              "  "
            ],
            "text/plain": [
              "        PC1       PC2       PC3\n",
              "0 -0.542660 -0.664959  0.035324\n",
              "1  2.803897  0.066207  0.348792\n",
              "2  0.615631 -0.306325  0.165059\n",
              "3 -2.158526 -0.958839  0.386086\n",
              "4 -0.931052  1.044819  0.360013\n",
              "5  1.142388  1.273946 -0.471245\n",
              "6  0.803082 -1.261879  0.472342\n",
              "7 -1.246820  1.655638 -0.023007\n",
              "8 -0.286027  0.024512  0.186799\n",
              "9 -0.199912 -0.873118 -1.460164"
            ]
          },
          "metadata": {},
          "execution_count": 46
        }
      ]
    },
    {
      "cell_type": "markdown",
      "source": [
        "### (d) Determine the variances along the principal directions."
      ],
      "metadata": {
        "id": "Z9dyGCx9BlQz"
      }
    },
    {
      "cell_type": "code",
      "source": [
        "var_principal = []\n",
        "for i in range(len(eigenValues)):\n",
        "    var_principal.append(eigenValues[i] / np.sum(eigen_values))\n",
        " \n",
        "print(var_principal)     #varinaces along the principal directions"
      ],
      "metadata": {
        "colab": {
          "base_uri": "https://localhost:8080/"
        },
        "id": "FlCpmI-850qj",
        "outputId": "5e8e78d9-37c8-4b86-d265-3cb053517ff2"
      },
      "execution_count": null,
      "outputs": [
        {
          "output_type": "stream",
          "name": "stdout",
          "text": [
            "[0.5895913787011413, 0.3090253056329647, 0.10138331566589397]\n"
          ]
        }
      ]
    },
    {
      "cell_type": "markdown",
      "source": [
        "### (e) Determine the principal axes using Scikit learn and compare with your solution. Does your solution compare well with that from the python library functions ? Why or why not ?\n"
      ],
      "metadata": {
        "id": "LL7sTEvbCMTu"
      }
    },
    {
      "cell_type": "code",
      "source": [
        "from sklearn.decomposition import PCA    #import scikit pca library"
      ],
      "metadata": {
        "id": "-0b3rKxMAzIq"
      },
      "execution_count": null,
      "outputs": []
    },
    {
      "cell_type": "code",
      "source": [
        "pca = PCA(n_components=3)     "
      ],
      "metadata": {
        "id": "_x3leQPwBTpE"
      },
      "execution_count": null,
      "outputs": []
    },
    {
      "cell_type": "code",
      "source": [
        "pca.fit_transform(X_scaled)      #Fit the model with X and applying transformation on X."
      ],
      "metadata": {
        "colab": {
          "base_uri": "https://localhost:8080/"
        },
        "id": "f7b7fB4eOXUK",
        "outputId": "1602138f-c74c-4cbc-c412-8a78020fbff8"
      },
      "execution_count": null,
      "outputs": [
        {
          "output_type": "execute_result",
          "data": {
            "text/plain": [
              "array([[-0.54266035, -0.66495907, -0.03532425],\n",
              "       [ 2.80389723,  0.06620673, -0.34879208],\n",
              "       [ 0.61563102, -0.30632536, -0.1650593 ],\n",
              "       [-2.15852616, -0.95883922, -0.38608588],\n",
              "       [-0.93105243,  1.04481917, -0.36001316],\n",
              "       [ 1.1423878 ,  1.27394577,  0.47124516],\n",
              "       [ 0.80308178, -1.2618794 , -0.47234173],\n",
              "       [-1.24681973,  1.65563789,  0.0230066 ],\n",
              "       [-0.28602725,  0.02451158, -0.1867989 ],\n",
              "       [-0.1999119 , -0.87311811,  1.46016354]])"
            ]
          },
          "metadata": {},
          "execution_count": 51
        }
      ]
    },
    {
      "cell_type": "code",
      "source": [
        "pca.components_                #one eigenvector for each principal component"
      ],
      "metadata": {
        "colab": {
          "base_uri": "https://localhost:8080/"
        },
        "id": "vzMEPmgkOZnh",
        "outputId": "4a902e9c-9d77-4e9b-cd6c-47393f9e2866"
      },
      "execution_count": null,
      "outputs": [
        {
          "output_type": "execute_result",
          "data": {
            "text/plain": [
              "array([[-0.64200458, -0.68636164,  0.34166917],\n",
              "       [ 0.38467229,  0.09713033,  0.91792861],\n",
              "       [ 0.66321742, -0.72074503, -0.20166619]])"
            ]
          },
          "metadata": {},
          "execution_count": 52
        }
      ]
    },
    {
      "cell_type": "code",
      "source": [
        "pca.explained_variance_ratio_       #varinaces along the principal directions"
      ],
      "metadata": {
        "colab": {
          "base_uri": "https://localhost:8080/"
        },
        "id": "9mB40HROOmqa",
        "outputId": "d2c58120-4471-452a-b247-c1aef22d0eff"
      },
      "execution_count": null,
      "outputs": [
        {
          "output_type": "execute_result",
          "data": {
            "text/plain": [
              "array([0.58959138, 0.30902531, 0.10138332])"
            ]
          },
          "metadata": {},
          "execution_count": 53
        }
      ]
    },
    {
      "cell_type": "markdown",
      "source": [
        "Principal axes using scikit was different from my solution (computing eigen vectors of covariance matrix of normalized data). Sign of one of the eigenvectors was opposite, although this should not be a problem as we do not need axes directions while considering principal components. After processing the input data with pca, principal components are the vectors that identify these axes. As a result, regardless of the direction each component is pointing, our data will be plotted on the same new axes.\n",
        "\n",
        "---\n",
        "\n"
      ],
      "metadata": {
        "id": "y0rcXvqJFxnj"
      }
    },
    {
      "cell_type": "markdown",
      "source": [
        "### (f) Determine the principal axes using numpy and compare with your solution. Does your solution compare well with that from the python library functions ? Why or why not ?"
      ],
      "metadata": {
        "id": "nsJWgFule7-O"
      }
    },
    {
      "cell_type": "code",
      "source": [
        "U, S, Vt = np.linalg.svd(X_scaled, full_matrices=True)\n",
        "print (\"Shape of U:\" , U.shape, \"   S:\" , S.shape, \"   Vt\", Vt.shape)\n",
        "print(\"U:\", U)\n",
        "print(\"S used for building Sigma:\")\n",
        "print(S)\n",
        "\n",
        "Sigma = np.diag(S)         #creating singular value matrix\n",
        "print(\"Sigma:\")\n",
        "print(Sigma)\n",
        "print(\"V already transposed:\")    #principal vectors/ eigen vectors\n",
        "print(Vt)\n",
        "\n",
        "pca_svd= np.matmul(X_scaled, Vt.transpose())\n",
        "print(\"\\n transformed data \\n\", pca_svd)       #transformed principal components"
      ],
      "metadata": {
        "colab": {
          "base_uri": "https://localhost:8080/"
        },
        "id": "tro17ipVgc9_",
        "outputId": "6089b0c6-4ed0-49ab-acb3-ffd9d4140b54"
      },
      "execution_count": null,
      "outputs": [
        {
          "output_type": "stream",
          "name": "stdout",
          "text": [
            "Shape of U: (10, 10)    S: (3,)    Vt (3, 3)\n",
            "U: [[-0.12903036 -0.21839227  0.02025485 -0.11486499  0.01523355 -0.10749197\n",
            "   0.42683596 -0.26415253  0.05492814 -0.80949526]\n",
            " [ 0.66669301  0.02174425  0.19999666  0.54703146  0.14989506 -0.39686657\n",
            "   0.03199942  0.09473135  0.08301484 -0.13763891]\n",
            " [ 0.14638086 -0.10060633  0.09464466 -0.23565773  0.38826045  0.35442037\n",
            "  -0.39344473  0.56546023  0.02839459 -0.39019043]\n",
            " [-0.51324075 -0.31491122  0.22138085  0.7147668   0.02147908  0.24432319\n",
            "  -0.09351423  0.07964978 -0.02823629 -0.0383712 ]\n",
            " [-0.22137978  0.34314959  0.2064308  -0.02027774  0.82547525 -0.06306849\n",
            "   0.16149905 -0.24337483 -0.02409298  0.13759994]\n",
            " [ 0.27162977  0.41840156 -0.270211    0.2652531  -0.0489155   0.71281627\n",
            "   0.21997141 -0.18339279  0.03728132 -0.11778888]\n",
            " [ 0.19095172 -0.4144386   0.27083978 -0.14380081  0.06291575  0.2523406\n",
            "   0.66563932  0.26795389 -0.04072629  0.33701252]\n",
            " [-0.29646094  0.54376056 -0.01319194  0.07910188 -0.17967015 -0.21550941\n",
            "   0.34596521  0.63215821  0.00747188 -0.1091183 ]\n",
            " [-0.06800976  0.00805033  0.10711011 -0.04601466 -0.03476136  0.03660289\n",
            "  -0.01160111 -0.01979099  0.98605644  0.0796131 ]\n",
            " [-0.04753379 -0.28675787 -0.83725476  0.14598955  0.32379262 -0.14862792\n",
            "   0.12598353  0.17458768  0.11178445  0.08614862]]\n",
            "S used for building Sigma:\n",
            "[4.20567966 3.04479214 1.74398953]\n",
            "Sigma:\n",
            "[[4.20567966 0.         0.        ]\n",
            " [0.         3.04479214 0.        ]\n",
            " [0.         0.         1.74398953]]\n",
            "V already transposed:\n",
            "[[-0.64200458 -0.68636164  0.34166917]\n",
            " [ 0.38467229  0.09713033  0.91792861]\n",
            " [-0.66321742  0.72074503  0.20166619]]\n",
            "\n",
            " transformed data \n",
            " [[-0.54266035 -0.66495907  0.03532425]\n",
            " [ 2.80389723  0.06620673  0.34879208]\n",
            " [ 0.61563102 -0.30632536  0.1650593 ]\n",
            " [-2.15852616 -0.95883922  0.38608588]\n",
            " [-0.93105243  1.04481917  0.36001316]\n",
            " [ 1.1423878   1.27394577 -0.47124516]\n",
            " [ 0.80308178 -1.2618794   0.47234173]\n",
            " [-1.24681973  1.65563789 -0.0230066 ]\n",
            " [-0.28602725  0.02451158  0.1867989 ]\n",
            " [-0.1999119  -0.87311811 -1.46016354]]\n"
          ]
        }
      ]
    },
    {
      "cell_type": "markdown",
      "source": [
        "Numpy result is same as my solution (computing eigen vectors of covariance matrix of normalized data). It is same because the eigen values are sorted as higher eigen value implies higher variance. The larger the absolute value of the coefficient, the more important the corresponding variable is in calculating the component. \n",
        "\n",
        "---\n",
        "\n"
      ],
      "metadata": {
        "id": "cYEP5lyRGZLa"
      }
    },
    {
      "cell_type": "markdown",
      "source": [
        "### (g) How many PCs are sufficient to represent the data in reduced dimensions with 95 % accuracy. Show how did you come up with you answer."
      ],
      "metadata": {
        "id": "eAQqMqlQhiP8"
      }
    },
    {
      "cell_type": "code",
      "source": [
        "print(pca.explained_variance_ratio_)"
      ],
      "metadata": {
        "colab": {
          "base_uri": "https://localhost:8080/"
        },
        "id": "gDhfSZSbhqMj",
        "outputId": "62defe07-efaf-4a61-bd6e-20c4ae0ff0f2"
      },
      "execution_count": null,
      "outputs": [
        {
          "output_type": "stream",
          "name": "stdout",
          "text": [
            "[0.58959138 0.30902531 0.10138332]\n"
          ]
        }
      ]
    },
    {
      "cell_type": "markdown",
      "source": [
        "To represent the data in reduced dimensions with 95% accuracy, we will need 3 PCs as the largest 2 PCs can explain is 90% of the data so rest 10% can be represented after using the 3rd PC.\n",
        "\n",
        "---\n",
        "\n"
      ],
      "metadata": {
        "id": "UvU4t0roGydS"
      }
    }
  ]
}