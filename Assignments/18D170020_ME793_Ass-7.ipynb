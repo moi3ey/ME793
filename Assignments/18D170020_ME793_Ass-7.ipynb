{
  "cells": [
    {
      "cell_type": "markdown",
      "metadata": {
        "id": "2uQNXnk1pDnc"
      },
      "source": [
        "# ME 793 - Assignment 7\n",
        "Moitreyee Sarkar- 18D170020"
      ]
    },
    {
      "cell_type": "markdown",
      "source": [
        "#Q 1. Solve equation dy/dx = 2x4 + exp(−x); y(x = 0) = 0 using neural network."
      ],
      "metadata": {
        "id": "B4R4GOm6rZve"
      }
    },
    {
      "cell_type": "code",
      "execution_count": 83,
      "metadata": {
        "id": "UvR6o811pDnh"
      },
      "outputs": [],
      "source": [
        "import autograd.numpy as np\n",
        "from autograd import grad, elementwise_grad\n",
        "import autograd.numpy.random as npr\n",
        "from autograd.misc.optimizers import adam\n",
        "import time"
      ]
    },
    {
      "cell_type": "code",
      "execution_count": 84,
      "metadata": {
        "id": "x7_Kot7ipDnj"
      },
      "outputs": [],
      "source": [
        "def init_random_params(scale, layer_sizes, rs=npr.RandomState(0)):\n",
        "#Define a list of (weights, biases tuples, one for each layer.\"\n",
        "    return [(rs.randn(insize, outsize) * scale,   # weight matrix\n",
        "             rs.randn(outsize) * scale)           # bias vector\n",
        "            for insize, outsize in zip(layer_sizes[:-1], layer_sizes[1:])]"
      ]
    },
    {
      "cell_type": "code",
      "execution_count": 85,
      "metadata": {
        "id": "EUo_pBWUpDnl"
      },
      "outputs": [],
      "source": [
        "# Define a sigmoid activation function. Can also be used from library. This is a simple definition.\n",
        "def sigmoid_activation(x):\n",
        "    \"see https://arxiv.org/pdf/1710.05941.pdf\"\n",
        "    return x / (1.0 + np.exp(-x))"
      ]
    },
    {
      "cell_type": "code",
      "execution_count": 86,
      "metadata": {
        "id": "1wq7jWaGpDnm"
      },
      "outputs": [],
      "source": [
        "# Define function y based on neural networks. Outputs are linearly related to biases and weights.\n",
        "# Outputs of one layer are used as inputs to another layer via activation function.\n",
        "def y(params, inputs):\n",
        "    \"Neural network functions\"\n",
        "    for W, b in params:\n",
        "        outputs = np.dot(inputs, W) + b\n",
        "        inputs = sigmoid_activation(outputs)    \n",
        "    return outputs"
      ]
    },
    {
      "cell_type": "code",
      "execution_count": 87,
      "metadata": {
        "id": "VMDerfX6pDnn"
      },
      "outputs": [],
      "source": [
        "# Make an initial guess of params:\n",
        "params = init_random_params(0.1, layer_sizes=[1, 8, 1])"
      ]
    },
    {
      "cell_type": "code",
      "execution_count": 88,
      "metadata": {
        "id": "bvZH1QAapDno"
      },
      "outputs": [],
      "source": [
        "dydx = elementwise_grad(y, 1) # this is the partial derivative of y w/t x"
      ]
    },
    {
      "cell_type": "code",
      "execution_count": 89,
      "metadata": {
        "id": "WdxRhkFOpDno"
      },
      "outputs": [],
      "source": [
        "y0 = 0.0\n",
        "x = np.linspace(0, 20).reshape((-1, 1))"
      ]
    },
    {
      "cell_type": "code",
      "execution_count": 90,
      "metadata": {
        "id": "NuS-_P-gpDno"
      },
      "outputs": [],
      "source": [
        "# Define the objective function.\n",
        "def lossfunction(params, step):\n",
        "    # The objective is to minimize to zero.\n",
        "    # dydx = -k * exp(-x)\n",
        "    # dy/dx = 2x^4 + exp(-x) # This is the real equation that we want to solve in the current notebook.\n",
        "    zeq = dydx(params, x) - (2*(x**4) - np.exp(-x))\n",
        "    ic = y(params, 0) - y0 # For my solution i.e. a set of paramaters 'params' this condition should be satisfied\n",
        "    # since this is the intial condition.\n",
        "    # If I minimize zeq and ic together or in some combined form, I will get a set of 'params' that give me\n",
        "    # solution of dy/dx\n",
        "    # Let us setup the loss function as zeq + ic\n",
        "    return np.mean(zeq**2) + ic**2"
      ]
    },
    {
      "cell_type": "code",
      "execution_count": 91,
      "metadata": {
        "id": "U5oKXhcopDnp"
      },
      "outputs": [],
      "source": [
        "def callback(params, step, g):\n",
        "    if step % 500 == 0:\n",
        "        print(\"Iteration {0:3d} lossfunction {1}\".format(step,\n",
        "                                                      lossfunction(params, step)))"
      ]
    },
    {
      "cell_type": "markdown",
      "source": [
        "#Q 2. Show the effect of number of layers and neurons in each layer on the solution and solution time. You need to show your answer as graphs."
      ],
      "metadata": {
        "id": "JWB623MZqek_"
      }
    },
    {
      "cell_type": "markdown",
      "source": [
        "### Number of nodes 8"
      ],
      "metadata": {
        "id": "I1UvRop4qqUj"
      }
    },
    {
      "cell_type": "code",
      "execution_count": 97,
      "metadata": {
        "scrolled": false,
        "colab": {
          "base_uri": "https://localhost:8080/"
        },
        "id": "LcHjp52ipDnp",
        "outputId": "d09fea53-3ee4-4090-9b23-6330c416e418"
      },
      "outputs": [
        {
          "output_type": "stream",
          "name": "stdout",
          "text": [
            "Iteration   0 lossfunction [[7.63773638e+09]]\n",
            "Iteration 500 lossfunction [[7.63663277e+09]]\n",
            "Iteration 1000 lossfunction [[7.63556818e+09]]\n",
            "Iteration 1500 lossfunction [[7.6345057e+09]]\n",
            "Iteration 2000 lossfunction [[7.63346618e+09]]\n",
            "Iteration 2500 lossfunction [[7.63238392e+09]]\n",
            "Iteration 3000 lossfunction [[7.63132786e+09]]\n",
            "Iteration 3500 lossfunction [[7.63027491e+09]]\n",
            "Iteration 4000 lossfunction [[7.62922276e+09]]\n",
            "Iteration 4500 lossfunction [[7.62816173e+09]]\n",
            "Iteration 5000 lossfunction [[7.62709006e+09]]\n",
            "Iteration 5500 lossfunction [[7.62603606e+09]]\n",
            "Iteration 6000 lossfunction [[7.6250005e+09]]\n",
            "Iteration 6500 lossfunction [[7.62407599e+09]]\n",
            "Iteration 7000 lossfunction [[7.62287688e+09]]\n",
            "Iteration 7500 lossfunction [[7.62183296e+09]]\n",
            "Iteration 8000 lossfunction [[7.62075674e+09]]\n",
            "Iteration 8500 lossfunction [[7.61969829e+09]]\n",
            "Iteration 9000 lossfunction [[7.61864712e+09]]\n",
            "Iteration 9500 lossfunction [[7.61761049e+09]]\n"
          ]
        }
      ],
      "source": [
        "#ODE solver for 8 nodes\n",
        "# grad(losfunciton) = d J(theta) / d theta\n",
        "params = adam(grad(lossfunction), params,\n",
        "              step_size=0.1, num_iters=10000, callback=callback) "
      ]
    },
    {
      "cell_type": "code",
      "execution_count": 98,
      "metadata": {
        "scrolled": true,
        "colab": {
          "base_uri": "https://localhost:8080/",
          "height": 290
        },
        "id": "LAQXzW_5pDnq",
        "outputId": "4557a62d-89d6-4445-828c-fe810351e988"
      },
      "outputs": [
        {
          "output_type": "display_data",
          "data": {
            "text/plain": [
              "<Figure size 432x288 with 1 Axes>"
            ],
            "image/png": "[encoded data removed]"
          },
          "metadata": {
            "needs_background": "light"
          }
        }
      ],
      "source": [
        "#Plot for 8 nodes\n",
        "tfit = np.linspace(0, 20).reshape(-1, 1)\n",
        "import matplotlib.pyplot as plt\n",
        "plt.plot(tfit, y(params, tfit), label='soln') \n",
        "plt.plot(tfit, (((x**4)/2)-np.exp(-x)+y0+1), 'r--', label='analytical soln')\n",
        "plt.legend()\n",
        "plt.xlabel('x')\n",
        "plt.ylabel('$y$')\n",
        "plt.xlim([0, 20])\n",
        "plt.savefig('odenn.png')"
      ]
    },
    {
      "cell_type": "markdown",
      "metadata": {
        "id": "IqDi5LL7pDnr"
      },
      "source": [
        "### Number of nodes 10"
      ]
    },
    {
      "cell_type": "code",
      "execution_count": 99,
      "metadata": {
        "id": "sGTDq58QpDnr"
      },
      "outputs": [],
      "source": [
        "# Make an initial guess of params:\n",
        "params = init_random_params(0.1, layer_sizes=[1, 10, 1])"
      ]
    },
    {
      "cell_type": "code",
      "execution_count": 100,
      "metadata": {
        "scrolled": true,
        "colab": {
          "base_uri": "https://localhost:8080/"
        },
        "id": "-3U4gpI7pDnr",
        "outputId": "94353622-7cf2-4989-a8f5-6db8d8005607"
      },
      "outputs": [
        {
          "output_type": "stream",
          "name": "stdout",
          "text": [
            "Iteration   0 lossfunction [[1.22020785e+10]]\n",
            "Iteration 500 lossfunction [[1.07444793e+10]]\n",
            "Iteration 1000 lossfunction [[8.49157775e+09]]\n",
            "Iteration 1500 lossfunction [[7.78718002e+09]]\n",
            "Iteration 2000 lossfunction [[7.74454641e+09]]\n",
            "Iteration 2500 lossfunction [[7.74260158e+09]]\n",
            "Iteration 3000 lossfunction [[7.74110446e+09]]\n",
            "Iteration 3500 lossfunction [[7.73964623e+09]]\n",
            "Iteration 4000 lossfunction [[7.73823502e+09]]\n",
            "Iteration 4500 lossfunction [[7.73678389e+09]]\n",
            "Iteration 5000 lossfunction [[7.73535807e+09]]\n",
            "Iteration 5500 lossfunction [[7.73395605e+09]]\n",
            "Iteration 6000 lossfunction [[7.73259349e+09]]\n",
            "Iteration 6500 lossfunction [[7.73111755e+09]]\n",
            "Iteration 7000 lossfunction [[7.72970496e+09]]\n",
            "Iteration 7500 lossfunction [[7.72834952e+09]]\n",
            "Iteration 8000 lossfunction [[7.72689486e+09]]\n",
            "Iteration 8500 lossfunction [[7.7254928e+09]]\n",
            "Iteration 9000 lossfunction [[7.72410026e+09]]\n",
            "Iteration 9500 lossfunction [[7.72269886e+09]]\n"
          ]
        }
      ],
      "source": [
        "#ODE solver 10 nodes\n",
        "begin_at = time.time() \n",
        "params = adam(grad(lossfunction), params,\n",
        "              step_size=0.1, num_iters=10000, callback=callback) \n",
        "end_at = time.time()\n",
        "#duration['10'] = end_at-begin_at\n",
        "#error['10'] = float(lossfunction(params, 100000))"
      ]
    },
    {
      "cell_type": "code",
      "execution_count": 102,
      "metadata": {
        "colab": {
          "base_uri": "https://localhost:8080/",
          "height": 290
        },
        "id": "EVOyOAAgpDns",
        "outputId": "efe6021f-e75a-4972-8129-95b8b0774d28"
      },
      "outputs": [
        {
          "output_type": "display_data",
          "data": {
            "text/plain": [
              "<Figure size 432x288 with 1 Axes>"
            ],
            "image/png": "[encoded data removed]"
          },
          "metadata": {
            "needs_background": "light"
          }
        }
      ],
      "source": [
        "#Plot for 10 nodes\n",
        "tfit = np.linspace(0, 20).reshape(-1, 1)\n",
        "import matplotlib.pyplot as plt\n",
        "plt.plot(tfit, y(params, tfit), label='soln') \n",
        "plt.plot(tfit, (((x**4)/2)-np.exp(-x)+y0+1), 'r--', label='analytical soln')\n",
        "plt.legend()\n",
        "plt.xlabel('x')\n",
        "plt.ylabel('$y$')\n",
        "plt.xlim([0, 20])\n",
        "plt.savefig('odenn.png')"
      ]
    },
    {
      "cell_type": "markdown",
      "metadata": {
        "id": "qjUQ_KV0pDns"
      },
      "source": [
        "### Number of nodes 20"
      ]
    },
    {
      "cell_type": "code",
      "execution_count": 56,
      "metadata": {
        "id": "PJ4x8tpepDns"
      },
      "outputs": [],
      "source": [
        "# Make an initial guess of params:\n",
        "params = init_random_params(0.1, layer_sizes=[1, 20, 1])"
      ]
    },
    {
      "cell_type": "code",
      "execution_count": 57,
      "metadata": {
        "scrolled": true,
        "colab": {
          "base_uri": "https://localhost:8080/"
        },
        "id": "EPR7QoaCpDns",
        "outputId": "d6a9e08c-d06e-4f4c-af2d-4666683b572e"
      },
      "outputs": [
        {
          "output_type": "stream",
          "name": "stdout",
          "text": [
            "Iteration   0 lossfunction [[1.22020779e+10]]\n",
            "Iteration 500 lossfunction [[8.36015479e+09]]\n",
            "Iteration 1000 lossfunction [[7.46711153e+09]]\n"
          ]
        },
        {
          "output_type": "stream",
          "name": "stderr",
          "text": [
            "/usr/local/lib/python3.7/dist-packages/autograd/numpy/numpy_vjps.py:53: RuntimeWarning: overflow encountered in square\n",
            "  lambda ans, x, y : unbroadcast_f(y, lambda g: - g * x / y**2))\n"
          ]
        },
        {
          "output_type": "stream",
          "name": "stdout",
          "text": [
            "Iteration 1500 lossfunction [[7.29880651e+09]]\n",
            "Iteration 2000 lossfunction [[7.09356372e+09]]\n",
            "Iteration 2500 lossfunction [[6.86618886e+09]]\n",
            "Iteration 3000 lossfunction [[6.61980602e+09]]\n",
            "Iteration 3500 lossfunction [[6.33486679e+09]]\n"
          ]
        },
        {
          "output_type": "stream",
          "name": "stderr",
          "text": [
            "/usr/local/lib/python3.7/dist-packages/autograd/tracer.py:48: RuntimeWarning: overflow encountered in power\n",
            "  return f_raw(*args, **kwargs)\n"
          ]
        },
        {
          "output_type": "stream",
          "name": "stdout",
          "text": [
            "Iteration 4000 lossfunction [[6.0454577e+09]]\n",
            "Iteration 4500 lossfunction [[5.75621414e+09]]\n"
          ]
        },
        {
          "output_type": "stream",
          "name": "stderr",
          "text": [
            "/usr/local/lib/python3.7/dist-packages/autograd/tracer.py:48: RuntimeWarning: overflow encountered in exp\n",
            "  return f_raw(*args, **kwargs)\n"
          ]
        },
        {
          "output_type": "stream",
          "name": "stdout",
          "text": [
            "Iteration 5000 lossfunction [[5.47292061e+09]]\n",
            "Iteration 5500 lossfunction [[5.19931708e+09]]\n",
            "Iteration 6000 lossfunction [[4.93894088e+09]]\n",
            "Iteration 6500 lossfunction [[4.6940496e+09]]\n",
            "Iteration 7000 lossfunction [[4.46883137e+09]]\n",
            "Iteration 7500 lossfunction [[4.26577876e+09]]\n",
            "Iteration 8000 lossfunction [[4.08660269e+09]]\n",
            "Iteration 8500 lossfunction [[3.93261327e+09]]\n",
            "Iteration 9000 lossfunction [[3.804154e+09]]\n",
            "Iteration 9500 lossfunction [[3.7008338e+09]]\n"
          ]
        }
      ],
      "source": [
        "# ODE solver for 20 nodes\n",
        "begin_at = time.time() \n",
        "params = adam(grad(lossfunction), params,\n",
        "              step_size=0.1, num_iters=10000, callback=callback) "
      ]
    },
    {
      "cell_type": "code",
      "execution_count": 58,
      "metadata": {
        "colab": {
          "base_uri": "https://localhost:8080/",
          "height": 290
        },
        "id": "nEzq2Y-BpDnt",
        "outputId": "70e63e6e-9aff-4a19-82cf-7b77210fe2e6"
      },
      "outputs": [
        {
          "output_type": "display_data",
          "data": {
            "text/plain": [
              "<Figure size 432x288 with 1 Axes>"
            ],
            "image/png": "[encoded data removed]"
          },
          "metadata": {
            "needs_background": "light"
          }
        }
      ],
      "source": [
        "#plot for 20 nodes\n",
        "tfit = np.linspace(0, 20).reshape(-1, 1)\n",
        "import matplotlib.pyplot as plt\n",
        "plt.plot(tfit, y(params, tfit), label='soln') \n",
        "plt.plot(tfit, (((x**4)/2)-np.exp(-x)+y0+1), 'r--', label='analytical soln')\n",
        "plt.legend()\n",
        "plt.xlabel('x')\n",
        "plt.ylabel('$y$')\n",
        "plt.xlim([0, 20])\n",
        "plt.savefig('odenn.png')"
      ]
    }
  ],
  "metadata": {
    "kernelspec": {
      "display_name": "Python 3 (ipykernel)",
      "language": "python",
      "name": "python3"
    },
    "language_info": {
      "codemirror_mode": {
        "name": "ipython",
        "version": 3
      },
      "file_extension": ".py",
      "mimetype": "text/x-python",
      "name": "python",
      "nbconvert_exporter": "python",
      "pygments_lexer": "ipython3",
      "version": "3.9.7"
    },
    "colab": {
      "name": "ME793_Tutorial12_Autograd.ipynb",
      "provenance": []
    }
  },
  "nbformat": 4,
  "nbformat_minor": 0
}