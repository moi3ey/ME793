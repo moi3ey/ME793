{
  "nbformat": 4,
  "nbformat_minor": 0,
  "metadata": {
    "colab": {
      "name": "Assignment_2.ipynb",
      "provenance": [],
      "collapsed_sections": []
    },
    "kernelspec": {
      "name": "python3",
      "display_name": "Python 3"
    },
    "language_info": {
      "name": "python"
    }
  },
  "cells": [
    {
      "cell_type": "markdown",
      "source": [
        "# ME 793 Assignment 4\n",
        "Moitreyee Sarkar- 18D170020\n"
      ],
      "metadata": {
        "id": "GhoLULTJvgrV"
      }
    },
    {
      "cell_type": "code",
      "source": [
        "#import libraries\n",
        "import numpy as np\n",
        "import pandas as pd\n",
        "import matplotlib.pyplot as plt\n",
        "from sklearn import linear_model "
      ],
      "metadata": {
        "id": "d2ZvVAF7w6j2"
      },
      "execution_count": 4,
      "outputs": []
    },
    {
      "cell_type": "code",
      "source": [
        "#mounting drive\n",
        "from google.colab import drive\n",
        "drive.mount('/content/drive')"
      ],
      "metadata": {
        "colab": {
          "base_uri": "https://localhost:8080/"
        },
        "id": "TaJqOThw1KNA",
        "outputId": "0ca89725-332e-4443-8cf6-babde29fa8a3"
      },
      "execution_count": 2,
      "outputs": [
        {
          "output_type": "stream",
          "name": "stdout",
          "text": [
            "Mounted at /content/drive\n"
          ]
        }
      ]
    },
    {
      "cell_type": "code",
      "source": [
        "#read excel data file\n",
        "dp = pd.read_excel('/content/drive/MyDrive/Periodic_table_data.xlsx')      \n",
        "dp"
      ],
      "metadata": {
        "colab": {
          "base_uri": "https://localhost:8080/",
          "height": 423
        },
        "id": "x5wxLKZzy1Dg",
        "outputId": "b9bac553-9c66-4067-e931-f9b0fc58161c"
      },
      "execution_count": 30,
      "outputs": [
        {
          "output_type": "execute_result",
          "data": {
            "text/html": [
              "\n",
              "  <div id=\"df-4c309559-eee9-4933-8191-5829c23fdcf4\">\n",
              "    <div class=\"colab-df-container\">\n",
              "      <div>\n",
              "<style scoped>\n",
              "    .dataframe tbody tr th:only-of-type {\n",
              "        vertical-align: middle;\n",
              "    }\n",
              "\n",
              "    .dataframe tbody tr th {\n",
              "        vertical-align: top;\n",
              "    }\n",
              "\n",
              "    .dataframe thead th {\n",
              "        text-align: right;\n",
              "    }\n",
              "</style>\n",
              "<table border=\"1\" class=\"dataframe\">\n",
              "  <thead>\n",
              "    <tr style=\"text-align: right;\">\n",
              "      <th></th>\n",
              "      <th>Symbol</th>\n",
              "      <th>Atomic Number</th>\n",
              "      <th>Electronegativity</th>\n",
              "      <th>Atomic Radii (pm)</th>\n",
              "      <th>Thermal Conductivity</th>\n",
              "      <th>Density</th>\n",
              "      <th>Crystal System</th>\n",
              "    </tr>\n",
              "  </thead>\n",
              "  <tbody>\n",
              "    <tr>\n",
              "      <th>0</th>\n",
              "      <td>H</td>\n",
              "      <td>1</td>\n",
              "      <td>2.20</td>\n",
              "      <td>53.0</td>\n",
              "      <td>0.1805</td>\n",
              "      <td>0.000090</td>\n",
              "      <td>Simple Hexagonal</td>\n",
              "    </tr>\n",
              "    <tr>\n",
              "      <th>1</th>\n",
              "      <td>He</td>\n",
              "      <td>2</td>\n",
              "      <td>NaN</td>\n",
              "      <td>31.0</td>\n",
              "      <td>0.1513</td>\n",
              "      <td>0.000179</td>\n",
              "      <td>Face Centered Cubic</td>\n",
              "    </tr>\n",
              "    <tr>\n",
              "      <th>2</th>\n",
              "      <td>Li</td>\n",
              "      <td>3</td>\n",
              "      <td>0.98</td>\n",
              "      <td>167.0</td>\n",
              "      <td>85.0000</td>\n",
              "      <td>0.534000</td>\n",
              "      <td>Body Centered Cubic</td>\n",
              "    </tr>\n",
              "    <tr>\n",
              "      <th>3</th>\n",
              "      <td>Be</td>\n",
              "      <td>4</td>\n",
              "      <td>1.57</td>\n",
              "      <td>112.0</td>\n",
              "      <td>190.0000</td>\n",
              "      <td>1.850000</td>\n",
              "      <td>Simple Hexagonal</td>\n",
              "    </tr>\n",
              "    <tr>\n",
              "      <th>4</th>\n",
              "      <td>B</td>\n",
              "      <td>5</td>\n",
              "      <td>2.04</td>\n",
              "      <td>87.0</td>\n",
              "      <td>27.0000</td>\n",
              "      <td>2.340000</td>\n",
              "      <td>Simple Trigonal</td>\n",
              "    </tr>\n",
              "    <tr>\n",
              "      <th>...</th>\n",
              "      <td>...</td>\n",
              "      <td>...</td>\n",
              "      <td>...</td>\n",
              "      <td>...</td>\n",
              "      <td>...</td>\n",
              "      <td>...</td>\n",
              "      <td>...</td>\n",
              "    </tr>\n",
              "    <tr>\n",
              "      <th>113</th>\n",
              "      <td>Fl</td>\n",
              "      <td>114</td>\n",
              "      <td>NaN</td>\n",
              "      <td>NaN</td>\n",
              "      <td>NaN</td>\n",
              "      <td>NaN</td>\n",
              "      <td>NaN</td>\n",
              "    </tr>\n",
              "    <tr>\n",
              "      <th>114</th>\n",
              "      <td>Mc</td>\n",
              "      <td>115</td>\n",
              "      <td>NaN</td>\n",
              "      <td>NaN</td>\n",
              "      <td>NaN</td>\n",
              "      <td>NaN</td>\n",
              "      <td>NaN</td>\n",
              "    </tr>\n",
              "    <tr>\n",
              "      <th>115</th>\n",
              "      <td>Lv</td>\n",
              "      <td>116</td>\n",
              "      <td>NaN</td>\n",
              "      <td>NaN</td>\n",
              "      <td>NaN</td>\n",
              "      <td>NaN</td>\n",
              "      <td>NaN</td>\n",
              "    </tr>\n",
              "    <tr>\n",
              "      <th>116</th>\n",
              "      <td>Ts</td>\n",
              "      <td>117</td>\n",
              "      <td>NaN</td>\n",
              "      <td>NaN</td>\n",
              "      <td>NaN</td>\n",
              "      <td>NaN</td>\n",
              "      <td>NaN</td>\n",
              "    </tr>\n",
              "    <tr>\n",
              "      <th>117</th>\n",
              "      <td>Og</td>\n",
              "      <td>118</td>\n",
              "      <td>NaN</td>\n",
              "      <td>NaN</td>\n",
              "      <td>NaN</td>\n",
              "      <td>NaN</td>\n",
              "      <td>Face Centered Cubic</td>\n",
              "    </tr>\n",
              "  </tbody>\n",
              "</table>\n",
              "<p>118 rows × 7 columns</p>\n",
              "</div>\n",
              "      <button class=\"colab-df-convert\" onclick=\"convertToInteractive('df-4c309559-eee9-4933-8191-5829c23fdcf4')\"\n",
              "              title=\"Convert this dataframe to an interactive table.\"\n",
              "              style=\"display:none;\">\n",
              "        \n",
              "  <svg xmlns=\"http://www.w3.org/2000/svg\" height=\"24px\"viewBox=\"0 0 24 24\"\n",
              "       width=\"24px\">\n",
              "    <path d=\"M0 0h24v24H0V0z\" fill=\"none\"/>\n",
              "    <path d=\"M18.56 5.44l.94 2.06.94-2.06 2.06-.94-2.06-.94-.94-2.06-.94 2.06-2.06.94zm-11 1L8.5 8.5l.94-2.06 2.06-.94-2.06-.94L8.5 2.5l-.94 2.06-2.06.94zm10 10l.94 2.06.94-2.06 2.06-.94-2.06-.94-.94-2.06-.94 2.06-2.06.94z\"/><path d=\"M17.41 7.96l-1.37-1.37c-.4-.4-.92-.59-1.43-.59-.52 0-1.04.2-1.43.59L10.3 9.45l-7.72 7.72c-.78.78-.78 2.05 0 2.83L4 21.41c.39.39.9.59 1.41.59.51 0 1.02-.2 1.41-.59l7.78-7.78 2.81-2.81c.8-.78.8-2.07 0-2.86zM5.41 20L4 18.59l7.72-7.72 1.47 1.35L5.41 20z\"/>\n",
              "  </svg>\n",
              "      </button>\n",
              "      \n",
              "  <style>\n",
              "    .colab-df-container {\n",
              "      display:flex;\n",
              "      flex-wrap:wrap;\n",
              "      gap: 12px;\n",
              "    }\n",
              "\n",
              "    .colab-df-convert {\n",
              "      background-color: #E8F0FE;\n",
              "      border: none;\n",
              "      border-radius: 50%;\n",
              "      cursor: pointer;\n",
              "      display: none;\n",
              "      fill: #1967D2;\n",
              "      height: 32px;\n",
              "      padding: 0 0 0 0;\n",
              "      width: 32px;\n",
              "    }\n",
              "\n",
              "    .colab-df-convert:hover {\n",
              "      background-color: #E2EBFA;\n",
              "      box-shadow: 0px 1px 2px rgba(60, 64, 67, 0.3), 0px 1px 3px 1px rgba(60, 64, 67, 0.15);\n",
              "      fill: #174EA6;\n",
              "    }\n",
              "\n",
              "    [theme=dark] .colab-df-convert {\n",
              "      background-color: #3B4455;\n",
              "      fill: #D2E3FC;\n",
              "    }\n",
              "\n",
              "    [theme=dark] .colab-df-convert:hover {\n",
              "      background-color: #434B5C;\n",
              "      box-shadow: 0px 1px 3px 1px rgba(0, 0, 0, 0.15);\n",
              "      filter: drop-shadow(0px 1px 2px rgba(0, 0, 0, 0.3));\n",
              "      fill: #FFFFFF;\n",
              "    }\n",
              "  </style>\n",
              "\n",
              "      <script>\n",
              "        const buttonEl =\n",
              "          document.querySelector('#df-4c309559-eee9-4933-8191-5829c23fdcf4 button.colab-df-convert');\n",
              "        buttonEl.style.display =\n",
              "          google.colab.kernel.accessAllowed ? 'block' : 'none';\n",
              "\n",
              "        async function convertToInteractive(key) {\n",
              "          const element = document.querySelector('#df-4c309559-eee9-4933-8191-5829c23fdcf4');\n",
              "          const dataTable =\n",
              "            await google.colab.kernel.invokeFunction('convertToInteractive',\n",
              "                                                     [key], {});\n",
              "          if (!dataTable) return;\n",
              "\n",
              "          const docLinkHtml = 'Like what you see? Visit the ' +\n",
              "            '<a target=\"_blank\" href=https://colab.research.google.com/notebooks/data_table.ipynb>data table notebook</a>'\n",
              "            + ' to learn more about interactive tables.';\n",
              "          element.innerHTML = '';\n",
              "          dataTable['output_type'] = 'display_data';\n",
              "          await google.colab.output.renderOutput(dataTable, element);\n",
              "          const docLink = document.createElement('div');\n",
              "          docLink.innerHTML = docLinkHtml;\n",
              "          element.appendChild(docLink);\n",
              "        }\n",
              "      </script>\n",
              "    </div>\n",
              "  </div>\n",
              "  "
            ],
            "text/plain": [
              "    Symbol  Atomic Number  ...   Density       Crystal System\n",
              "0        H              1  ...  0.000090     Simple Hexagonal\n",
              "1       He              2  ...  0.000179  Face Centered Cubic\n",
              "2       Li              3  ...  0.534000  Body Centered Cubic\n",
              "3       Be              4  ...  1.850000     Simple Hexagonal\n",
              "4        B              5  ...  2.340000      Simple Trigonal\n",
              "..     ...            ...  ...       ...                  ...\n",
              "113     Fl            114  ...       NaN                  NaN\n",
              "114     Mc            115  ...       NaN                  NaN\n",
              "115     Lv            116  ...       NaN                  NaN\n",
              "116     Ts            117  ...       NaN                  NaN\n",
              "117     Og            118  ...       NaN  Face Centered Cubic\n",
              "\n",
              "[118 rows x 7 columns]"
            ]
          },
          "metadata": {},
          "execution_count": 30
        }
      ]
    },
    {
      "cell_type": "code",
      "source": [
        "print(\"Total number of rows:\", dp.shape[0])\n",
        "print(\"Total number of columns:\", dp.shape[1])"
      ],
      "metadata": {
        "colab": {
          "base_uri": "https://localhost:8080/"
        },
        "id": "QQvtwcPH5_ch",
        "outputId": "347d1c3e-692d-41b4-82dd-dcfcc32051d0"
      },
      "execution_count": 54,
      "outputs": [
        {
          "output_type": "stream",
          "name": "stdout",
          "text": [
            "Total number of rows: 118\n",
            "Total number of columns: 7\n"
          ]
        }
      ]
    },
    {
      "cell_type": "code",
      "source": [
        "# Function to select red or white dataset\n",
        "def call(functionToCall):\n",
        "    print('\\nTable\\n')\n",
        "    functionToCall(dp)"
      ],
      "metadata": {
        "id": "EGw1dFKR1uob"
      },
      "execution_count": 41,
      "outputs": []
    },
    {
      "cell_type": "code",
      "source": [
        "# Remove spaces from column names\n",
        "def q1(Periodic_table_data):\n",
        "    Periodic_table_data.columns = [x.strip().replace(' ','_') for x in Periodic_table_data.columns]\n",
        "call(q1)\n",
        "dp.head()"
      ],
      "metadata": {
        "colab": {
          "base_uri": "https://localhost:8080/",
          "height": 258
        },
        "id": "CMi-F3qe0bgx",
        "outputId": "0490b349-ca83-4d93-c47d-82f4b6670a5c"
      },
      "execution_count": 44,
      "outputs": [
        {
          "output_type": "stream",
          "name": "stdout",
          "text": [
            "\n",
            "Table\n",
            "\n"
          ]
        },
        {
          "output_type": "execute_result",
          "data": {
            "text/html": [
              "\n",
              "  <div id=\"df-0647f377-01b9-4801-8659-086c37308c58\">\n",
              "    <div class=\"colab-df-container\">\n",
              "      <div>\n",
              "<style scoped>\n",
              "    .dataframe tbody tr th:only-of-type {\n",
              "        vertical-align: middle;\n",
              "    }\n",
              "\n",
              "    .dataframe tbody tr th {\n",
              "        vertical-align: top;\n",
              "    }\n",
              "\n",
              "    .dataframe thead th {\n",
              "        text-align: right;\n",
              "    }\n",
              "</style>\n",
              "<table border=\"1\" class=\"dataframe\">\n",
              "  <thead>\n",
              "    <tr style=\"text-align: right;\">\n",
              "      <th></th>\n",
              "      <th>Symbol</th>\n",
              "      <th>Atomic_Number</th>\n",
              "      <th>Electronegativity</th>\n",
              "      <th>Atomic_Radii_(pm)</th>\n",
              "      <th>Thermal_Conductivity</th>\n",
              "      <th>Density</th>\n",
              "      <th>Crystal_System</th>\n",
              "    </tr>\n",
              "  </thead>\n",
              "  <tbody>\n",
              "    <tr>\n",
              "      <th>0</th>\n",
              "      <td>H</td>\n",
              "      <td>1</td>\n",
              "      <td>2.20</td>\n",
              "      <td>53.0</td>\n",
              "      <td>0.1805</td>\n",
              "      <td>0.000090</td>\n",
              "      <td>Simple Hexagonal</td>\n",
              "    </tr>\n",
              "    <tr>\n",
              "      <th>1</th>\n",
              "      <td>He</td>\n",
              "      <td>2</td>\n",
              "      <td>NaN</td>\n",
              "      <td>31.0</td>\n",
              "      <td>0.1513</td>\n",
              "      <td>0.000179</td>\n",
              "      <td>Face Centered Cubic</td>\n",
              "    </tr>\n",
              "    <tr>\n",
              "      <th>2</th>\n",
              "      <td>Li</td>\n",
              "      <td>3</td>\n",
              "      <td>0.98</td>\n",
              "      <td>167.0</td>\n",
              "      <td>85.0000</td>\n",
              "      <td>0.534000</td>\n",
              "      <td>Body Centered Cubic</td>\n",
              "    </tr>\n",
              "    <tr>\n",
              "      <th>3</th>\n",
              "      <td>Be</td>\n",
              "      <td>4</td>\n",
              "      <td>1.57</td>\n",
              "      <td>112.0</td>\n",
              "      <td>190.0000</td>\n",
              "      <td>1.850000</td>\n",
              "      <td>Simple Hexagonal</td>\n",
              "    </tr>\n",
              "    <tr>\n",
              "      <th>4</th>\n",
              "      <td>B</td>\n",
              "      <td>5</td>\n",
              "      <td>2.04</td>\n",
              "      <td>87.0</td>\n",
              "      <td>27.0000</td>\n",
              "      <td>2.340000</td>\n",
              "      <td>Simple Trigonal</td>\n",
              "    </tr>\n",
              "  </tbody>\n",
              "</table>\n",
              "</div>\n",
              "      <button class=\"colab-df-convert\" onclick=\"convertToInteractive('df-0647f377-01b9-4801-8659-086c37308c58')\"\n",
              "              title=\"Convert this dataframe to an interactive table.\"\n",
              "              style=\"display:none;\">\n",
              "        \n",
              "  <svg xmlns=\"http://www.w3.org/2000/svg\" height=\"24px\"viewBox=\"0 0 24 24\"\n",
              "       width=\"24px\">\n",
              "    <path d=\"M0 0h24v24H0V0z\" fill=\"none\"/>\n",
              "    <path d=\"M18.56 5.44l.94 2.06.94-2.06 2.06-.94-2.06-.94-.94-2.06-.94 2.06-2.06.94zm-11 1L8.5 8.5l.94-2.06 2.06-.94-2.06-.94L8.5 2.5l-.94 2.06-2.06.94zm10 10l.94 2.06.94-2.06 2.06-.94-2.06-.94-.94-2.06-.94 2.06-2.06.94z\"/><path d=\"M17.41 7.96l-1.37-1.37c-.4-.4-.92-.59-1.43-.59-.52 0-1.04.2-1.43.59L10.3 9.45l-7.72 7.72c-.78.78-.78 2.05 0 2.83L4 21.41c.39.39.9.59 1.41.59.51 0 1.02-.2 1.41-.59l7.78-7.78 2.81-2.81c.8-.78.8-2.07 0-2.86zM5.41 20L4 18.59l7.72-7.72 1.47 1.35L5.41 20z\"/>\n",
              "  </svg>\n",
              "      </button>\n",
              "      \n",
              "  <style>\n",
              "    .colab-df-container {\n",
              "      display:flex;\n",
              "      flex-wrap:wrap;\n",
              "      gap: 12px;\n",
              "    }\n",
              "\n",
              "    .colab-df-convert {\n",
              "      background-color: #E8F0FE;\n",
              "      border: none;\n",
              "      border-radius: 50%;\n",
              "      cursor: pointer;\n",
              "      display: none;\n",
              "      fill: #1967D2;\n",
              "      height: 32px;\n",
              "      padding: 0 0 0 0;\n",
              "      width: 32px;\n",
              "    }\n",
              "\n",
              "    .colab-df-convert:hover {\n",
              "      background-color: #E2EBFA;\n",
              "      box-shadow: 0px 1px 2px rgba(60, 64, 67, 0.3), 0px 1px 3px 1px rgba(60, 64, 67, 0.15);\n",
              "      fill: #174EA6;\n",
              "    }\n",
              "\n",
              "    [theme=dark] .colab-df-convert {\n",
              "      background-color: #3B4455;\n",
              "      fill: #D2E3FC;\n",
              "    }\n",
              "\n",
              "    [theme=dark] .colab-df-convert:hover {\n",
              "      background-color: #434B5C;\n",
              "      box-shadow: 0px 1px 3px 1px rgba(0, 0, 0, 0.15);\n",
              "      filter: drop-shadow(0px 1px 2px rgba(0, 0, 0, 0.3));\n",
              "      fill: #FFFFFF;\n",
              "    }\n",
              "  </style>\n",
              "\n",
              "      <script>\n",
              "        const buttonEl =\n",
              "          document.querySelector('#df-0647f377-01b9-4801-8659-086c37308c58 button.colab-df-convert');\n",
              "        buttonEl.style.display =\n",
              "          google.colab.kernel.accessAllowed ? 'block' : 'none';\n",
              "\n",
              "        async function convertToInteractive(key) {\n",
              "          const element = document.querySelector('#df-0647f377-01b9-4801-8659-086c37308c58');\n",
              "          const dataTable =\n",
              "            await google.colab.kernel.invokeFunction('convertToInteractive',\n",
              "                                                     [key], {});\n",
              "          if (!dataTable) return;\n",
              "\n",
              "          const docLinkHtml = 'Like what you see? Visit the ' +\n",
              "            '<a target=\"_blank\" href=https://colab.research.google.com/notebooks/data_table.ipynb>data table notebook</a>'\n",
              "            + ' to learn more about interactive tables.';\n",
              "          element.innerHTML = '';\n",
              "          dataTable['output_type'] = 'display_data';\n",
              "          await google.colab.output.renderOutput(dataTable, element);\n",
              "          const docLink = document.createElement('div');\n",
              "          docLink.innerHTML = docLinkHtml;\n",
              "          element.appendChild(docLink);\n",
              "        }\n",
              "      </script>\n",
              "    </div>\n",
              "  </div>\n",
              "  "
            ],
            "text/plain": [
              "  Symbol  Atomic_Number  ...   Density       Crystal_System\n",
              "0      H              1  ...  0.000090     Simple Hexagonal\n",
              "1     He              2  ...  0.000179  Face Centered Cubic\n",
              "2     Li              3  ...  0.534000  Body Centered Cubic\n",
              "3     Be              4  ...  1.850000     Simple Hexagonal\n",
              "4      B              5  ...  2.340000      Simple Trigonal\n",
              "\n",
              "[5 rows x 7 columns]"
            ]
          },
          "metadata": {},
          "execution_count": 44
        }
      ]
    },
    {
      "cell_type": "markdown",
      "source": [
        "# 1. Develop a Linear Regression based model where electronegativity is X and thermal conductivity is Y ."
      ],
      "metadata": {
        "id": "Q3XGKgpe5vzP"
      }
    },
    {
      "cell_type": "code",
      "source": [
        "def estimate_coef(x, y):\n",
        "\t# number of observations/points\n",
        "\tn = np.size(x)\n",
        "\n",
        "\t# mean of x and y vector\n",
        "\tm_x = np.mean(x)\n",
        "\tm_y = np.mean(y)\n",
        "\n",
        "\t# calculating cross-deviation and deviation about x\n",
        "\tSS_xy = np.sum(y*x) - n*m_y*m_x\n",
        "\tSS_xx = np.sum(x*x) - n*m_x*m_x\n",
        "\n",
        "\t# calculating regression coefficients\n",
        "\tb_1 = SS_xy / SS_xx\n",
        "\tb_0 = m_y - b_1*m_x\n",
        "\n",
        "\treturn (b_0, b_1)\n",
        "\n",
        "def plot_regression_line(x, y, b):\n",
        "\t# plotting the actual points as scatter plot\n",
        "\tplt.scatter(x, y, color = \"m\",\n",
        "\t\t\tmarker = \"o\", s = 30)\n",
        "\n",
        "\t# predicted response vector\n",
        "\ty_pred = b[0] + b[1]*x\n",
        "\n",
        "\t# plotting the regression line\n",
        "\tplt.plot(x, y_pred, color = \"g\")\n",
        "\n",
        "\t# putting labels\n",
        "\tplt.xlabel('Electronegativity')\n",
        "\tplt.ylabel('Thermal Conductivity')\n",
        "\n",
        "\t# function to show plot\n",
        "\tplt.show()\n",
        "\n",
        "def main():\n",
        "\t# observations / data\n",
        "\tx = dp.Electronegativity\n",
        "\ty = dp.Thermal_Conductivity\n",
        "\n",
        "\t# estimating coefficients\n",
        "\tb = estimate_coef(x, y)\n",
        "\tprint(\"Estimated coefficients:\\nb_0 = {} \\\n",
        "\t\t\\nb_1 = {}\".format(b[0], b[1]))\n",
        "\n",
        "\t# plotting regression line\n",
        "\tplot_regression_line(x, y, b)\n",
        "\n",
        "if __name__ == \"__main__\":\n",
        "\tmain()\n"
      ],
      "metadata": {
        "colab": {
          "base_uri": "https://localhost:8080/",
          "height": 331
        },
        "id": "D18RCE7Z4u6i",
        "outputId": "382f522b-2b98-4c76-bb61-62e5d935c5be"
      },
      "execution_count": 55,
      "outputs": [
        {
          "output_type": "stream",
          "name": "stdout",
          "text": [
            "Estimated coefficients:\n",
            "b_0 = -63.825770557934426 \t\t\n",
            "b_1 = 71.89957165910896\n"
          ]
        },
        {
          "output_type": "display_data",
          "data": {
            "image/png": "[encoded data removed]",
            "text/plain": [
              "<Figure size 432x288 with 1 Axes>"
            ]
          },
          "metadata": {
            "needs_background": "light"
          }
        }
      ]
    },
    {
      "cell_type": "markdown",
      "source": [
        "# 2. Develop a Multi-Linear Regression based model where electronegativity is X1 and density is X2 and thermal conductivity is Y ."
      ],
      "metadata": {
        "id": "YbGHgal-6Nov"
      }
    },
    {
      "cell_type": "code",
      "source": [
        "dp = dp.dropna()\n",
        "x=dp[['Electronegativity','Density']]\n",
        "print(x)\n",
        "y=dp['Thermal_Conductivity'].values\n",
        "print(\"Thermal Conductivity:\")\n",
        "print(y)"
      ],
      "metadata": {
        "colab": {
          "base_uri": "https://localhost:8080/"
        },
        "id": "5gaaBWHh5FNJ",
        "outputId": "7991d6f7-834f-4ffc-bdbf-96318b9b17c1"
      },
      "execution_count": 71,
      "outputs": [
        {
          "output_type": "stream",
          "name": "stdout",
          "text": [
            "    Electronegativity   Density\n",
            "0                2.20   0.00009\n",
            "2                0.98   0.53400\n",
            "3                1.57   1.85000\n",
            "4                2.04   2.34000\n",
            "5                2.55   2.27000\n",
            "..                ...       ...\n",
            "79               2.00  13.50000\n",
            "80               2.04  11.90000\n",
            "81               2.33  11.30000\n",
            "82               2.02   9.81000\n",
            "84               2.20   7.00000\n",
            "\n",
            "[79 rows x 2 columns]\n",
            "Thermal Conductivity:\n",
            "[1.805e-01 8.500e+01 1.900e+02 2.700e+01 1.400e+02 2.583e-02 2.658e-02\n",
            " 2.770e-02 1.400e+02 1.600e+02 2.350e+02 1.500e+02 2.360e-01 2.050e-01\n",
            " 8.900e-03 1.000e+02 2.000e+02 1.600e+01 2.200e+01 3.100e+01 9.400e+01\n",
            " 7.800e+00 8.000e+01 1.000e+02 9.100e+01 4.000e+02 1.200e+02 2.900e+01\n",
            " 6.000e+01 5.000e+01 5.200e-01 1.200e-01 5.800e+01 3.500e+01 1.700e+01\n",
            " 2.300e+01 5.400e+01 1.390e+02 5.100e+01 1.200e+02 1.500e+02 7.200e+01\n",
            " 4.300e+02 9.700e+01 8.200e+01 6.700e+01 2.400e+01 3.000e+00 4.490e-01\n",
            " 3.600e+01 1.800e+01 1.300e+01 1.100e+01 1.300e+01 1.700e+01 1.500e+01\n",
            " 1.300e+01 1.400e+01 1.100e+01 1.100e+01 1.100e+01 1.600e+01 1.500e+01\n",
            " 1.700e+01 3.900e+01 1.600e+01 2.300e+01 5.700e+01 1.700e+02 4.800e+01\n",
            " 8.800e+01 1.500e+02 7.200e+01 3.200e+02 8.300e+00 4.600e+01 3.500e+01\n",
            " 8.000e+00 2.000e+00]\n"
          ]
        }
      ]
    },
    {
      "cell_type": "code",
      "source": [
        "# splitting x and y into training and testing sets\n",
        "from sklearn.model_selection import train_test_split\n",
        "x_train, x_test, y_train, y_test = train_test_split(x, y, test_size=0.4,\n",
        "                                                    random_state=1)\n",
        " \n",
        "# create linear regression object\n",
        "reg = linear_model.LinearRegression()\n",
        " \n",
        "# train the model using the training sets\n",
        "reg.fit(x_train, y_train)\n",
        " \n",
        "# regression coefficients\n",
        "print('Coefficients: ', reg.coef_)\n",
        " \n",
        "# variance score: 1 means perfect prediction\n",
        "print('Variance score: {}'.format(reg.score(x_test, y_test)))\n",
        " \n",
        "# plot for residual error \n",
        " \n",
        "## plotting residual errors in training data\n",
        "plt.scatter(reg.predict(x_train), reg.predict(x_train) - y_train,\n",
        "            color = \"green\", s = 10, label = 'Train data')\n",
        " \n",
        "## plotting residual errors in test data\n",
        "plt.scatter(reg.predict(x_test), reg.predict(x_test) - y_test,\n",
        "            color = \"blue\", s = 10, label = 'Test data')\n",
        " \n",
        "## plotting line for zero residual error\n",
        "plt.hlines(y = 0, xmin = 0, xmax = 50, linewidth = 2)\n",
        " \n",
        "## plotting legend\n",
        "plt.legend(loc = 'upper right')\n",
        " \n",
        "## plot title\n",
        "plt.title(\"Residual errors\")\n",
        " \n",
        "## method call for showing the plot\n",
        "plt.show()"
      ],
      "metadata": {
        "colab": {
          "base_uri": "https://localhost:8080/",
          "height": 338
        },
        "id": "ziK5Oxcz-86P",
        "outputId": "a94d90f2-02e8-4875-d94c-429ad2736ac5"
      },
      "execution_count": 76,
      "outputs": [
        {
          "output_type": "stream",
          "name": "stdout",
          "text": [
            "Coefficients:  [-11.70212511   4.59111107]\n",
            "Variance score: -0.1427845010975839\n"
          ]
        },
        {
          "output_type": "display_data",
          "data": {
            "image/png": "[encoded data removed]",
            "text/plain": [
              "<Figure size 432x288 with 1 Axes>"
            ]
          },
          "metadata": {}
        }
      ]
    },
    {
      "cell_type": "markdown",
      "source": [
        "# 3. Develop a Gradient Descent based model where electronegativity is X1 and density is X2 and thermal conductivity is Y ."
      ],
      "metadata": {
        "id": "WAdP4f3xCP-h"
      }
    },
    {
      "cell_type": "code",
      "source": [
        "from sklearn.preprocessing import StandardScaler\n",
        "sc=StandardScaler()\n",
        "X_transform=sc.fit_transform(x)\n",
        "X_transform"
      ],
      "metadata": {
        "colab": {
          "base_uri": "https://localhost:8080/"
        },
        "id": "mQINJfJhIA4h",
        "outputId": "25cfe8f3-1f90-4fd3-ee50-e4d2ff25f066"
      },
      "execution_count": 103,
      "outputs": [
        {
          "output_type": "execute_result",
          "data": {
            "text/plain": [
              "array([[ 0.65470422, -1.35793147],\n",
              "       [-1.2574289 , -1.2592575 ],\n",
              "       [-0.33270878, -1.0160425 ],\n",
              "       [ 0.40393267, -0.92548373],\n",
              "       [ 1.20326701, -0.9384207 ],\n",
              "       [ 1.9712549 , -1.35771706],\n",
              "       [ 2.5981838 , -1.3576838 ],\n",
              "       [ 3.4445378 , -1.3576339 ],\n",
              "       [-1.33579501, -1.17849385],\n",
              "       [-0.74021256, -1.03637202],\n",
              "       [-0.27001589, -0.85895075],\n",
              "       [ 0.18450755, -0.92733187],\n",
              "       [ 0.639031  , -1.02158692],\n",
              "       [ 1.25028667, -0.97538346],\n",
              "       [ 2.15933357, -1.35735483],\n",
              "       [-1.50820046, -1.19863856],\n",
              "       [-1.22608246, -1.07333479],\n",
              "       [-0.66184645, -0.80535474],\n",
              "       [-0.37972845, -0.51889331],\n",
              "       [-0.23866945, -0.2287356 ],\n",
              "       [-0.19164978, -0.03652922],\n",
              "       [-0.36405523,  0.01706679],\n",
              "       [ 0.074795  ,  0.09653673],\n",
              "       [ 0.15316111,  0.27950242],\n",
              "       [ 0.20018078,  0.28874311],\n",
              "       [ 0.18450755,  0.2979838 ],\n",
              "       [-0.207323  , -0.0402255 ],\n",
              "       [ 0.04344855, -0.26569837],\n",
              "       [ 0.356913  , -0.37473853],\n",
              "       [ 0.62335778, -0.28972417],\n",
              "       [ 1.20326701, -0.46899358],\n",
              "       [ 1.84586912, -0.78132894],\n",
              "       [-1.50820046, -1.07518293],\n",
              "       [-1.30444857, -0.87003958],\n",
              "       [-0.88127157, -0.53183028],\n",
              "       [-0.70886612, -0.15481007],\n",
              "       [-0.28568912,  0.22590641],\n",
              "       [ 0.59201134,  0.52715294],\n",
              "       [ 0.18450755,  0.76741092],\n",
              "       [ 0.65470422,  0.93374336],\n",
              "       [ 0.78009   ,  0.93374336],\n",
              "       [ 0.65470422,  0.85981783],\n",
              "       [ 0.23152722,  0.58259709],\n",
              "       [-0.14463012,  0.24808407],\n",
              "       [-0.00357111, -0.00695901],\n",
              "       [ 0.27854689, -0.01065529],\n",
              "       [ 0.41960589, -0.12154358],\n",
              "       [ 0.497972  , -0.20655794],\n",
              "       [ 1.37567245, -0.44681592],\n",
              "       [-1.55522013, -1.01234623],\n",
              "       [-1.3984879 , -0.69446644],\n",
              "       [-1.06935023, -0.22134305],\n",
              "       [-1.03800379, -0.10675848],\n",
              "       [-1.02233057, -0.10675848],\n",
              "       [-1.00665734, -0.06240316],\n",
              "       [-1.02233057, -0.0161997 ],\n",
              "       [-0.95963768,  0.03185189],\n",
              "       [-0.91261801, -0.38952363],\n",
              "       [-0.91261801,  0.10208114],\n",
              "       [-0.91261801,  0.16306971],\n",
              "       [-0.88127157,  0.22221013],\n",
              "       [-0.86559834,  0.26841359],\n",
              "       [-0.84992512,  0.31831332],\n",
              "       [-0.8342519 ,  0.36451678],\n",
              "       [-1.06935023, -0.06979571],\n",
              "       [-0.80290545,  0.46061997],\n",
              "       [-0.75588579,  1.10007581],\n",
              "       [-0.44242134,  1.72844281],\n",
              "       [ 0.90547578,  2.20895876],\n",
              "       [ 0.18450755,  2.52314226],\n",
              "       [ 0.65470422,  2.81884439],\n",
              "       [ 0.65470422,  2.81884439],\n",
              "       [ 0.78009   ,  2.61554918],\n",
              "       [ 1.18759378,  2.20895876],\n",
              "       [ 0.34123978,  1.13703857],\n",
              "       [ 0.40393267,  0.84133645],\n",
              "       [ 0.85845612,  0.73044815],\n",
              "       [ 0.37258622,  0.45507555],\n",
              "       [ 0.65470422, -0.0642513 ]])"
            ]
          },
          "metadata": {},
          "execution_count": 103
        }
      ]
    },
    {
      "cell_type": "code",
      "source": [
        "#GD for linear regression\n",
        "def predicted_y(weight,x,intercept):\n",
        "    y_lst=[]\n",
        "    for i in range(len(x)):\n",
        "        y_lst.append(weight@x[i]+intercept)\n",
        "    return np.array(y_lst)\n",
        "    \n",
        "\n",
        "# linear loss\n",
        "def loss(y,y_predicted):\n",
        "    n=len(y)\n",
        "    s=0\n",
        "    for i in range(n):\n",
        "        s+=(y[i]-y_predicted[i])**2\n",
        "    return (1/n)*s\n",
        "\n",
        "#derivative of loss w.r.t weight\n",
        "def dldw(x,y,y_predicted):\n",
        "    s=0\n",
        "    n=len(y)\n",
        "    for i in range(n):\n",
        "        s+=-x[i]*(y[i]-y_predicted[i])\n",
        "    return (2/n)*s\n",
        "    \n",
        "\n",
        "# derivative of loss w.r.t bias\n",
        "def dldb(y,y_predicted):\n",
        "    n=len(y)\n",
        "    s=0\n",
        "    for i in range(len(y)):\n",
        "        s+=-(y[i]-y_predicted[i])\n",
        "    return (2/n) * s\n",
        "   \n",
        "\n",
        "   \n",
        "        \n",
        "        \n",
        "# gradient function\n",
        "def gradient_descent(x,y):\n",
        "    weight_vector=np.random.randn(x.shape[1])\n",
        "    intercept=0\n",
        "    epoch = 2000\n",
        "    n = len(x)\n",
        "    linear_loss=[]\n",
        "    learning_rate = 0.001\n",
        "\n",
        "    for i in range(epoch):\n",
        "        \n",
        "        \n",
        "        y_predicted = predicted_y(weight_vector,x,intercept)\n",
        "        \n",
        "        weight_vector = weight_vector - learning_rate *dldw(x,y,y_predicted) \n",
        "        \n",
        "        \n",
        "        intercept = intercept - learning_rate * dldb(y,y_predicted)\n",
        "        linear_loss.append(loss(y,y_predicted))\n",
        "        \n",
        "    plt.plot(np.arange(1,epoch),linear_loss[1:])\n",
        "    plt.xlabel(\"number of epoch\")\n",
        "    plt.ylabel(\"loss\")\n",
        "    \n",
        "    return weight_vector,intercept\n",
        "    "
      ],
      "metadata": {
        "id": "QKCzYSScMbz_"
      },
      "execution_count": 104,
      "outputs": []
    },
    {
      "cell_type": "code",
      "source": [
        "w,b=gradient_descent(X_transform,y)"
      ],
      "metadata": {
        "colab": {
          "base_uri": "https://localhost:8080/",
          "height": 304
        },
        "id": "TOwN_SHzMzVP",
        "outputId": "1b725c9c-f068-41b4-949a-43f8f6158f9a"
      },
      "execution_count": 105,
      "outputs": [
        {
          "output_type": "display_data",
          "data": {
            "image/png": "[encoded data removed]",
            "text/plain": [
              "<Figure size 432x288 with 1 Axes>"
            ]
          },
          "metadata": {}
        }
      ]
    },
    {
      "cell_type": "code",
      "source": [
        "print(\"weight:\",w)\n",
        "print(\"bias:\",b)"
      ],
      "metadata": {
        "colab": {
          "base_uri": "https://localhost:8080/"
        },
        "id": "deFJ2WlNM7bP",
        "outputId": "384b5838-1d41-452c-fd52-1744cbdfd741"
      },
      "execution_count": 106,
      "outputs": [
        {
          "output_type": "stream",
          "name": "stdout",
          "text": [
            "weight: [ 0.11661722 18.21159512]\n",
            "bias: 65.42854397947173\n"
          ]
        }
      ]
    },
    {
      "cell_type": "code",
      "source": [
        "#predict\n",
        "def predict(inp):\n",
        "    y_lst=[]\n",
        "    for i in range(len(inp)):\n",
        "        y_lst.append(w@inp[i]+b)\n",
        "    return np.array(y_lst)"
      ],
      "metadata": {
        "id": "FA5vWbjCM_E5"
      },
      "execution_count": 107,
      "outputs": []
    },
    {
      "cell_type": "code",
      "source": [
        "y_pred=predict(X_transform)\n",
        "y_pred"
      ],
      "metadata": {
        "colab": {
          "base_uri": "https://localhost:8080/"
        },
        "id": "gDDVfUUFNCmv",
        "outputId": "86a432fc-9348-4046-db12-6bdbd44e04dc"
      },
      "execution_count": 108,
      "outputs": [
        {
          "output_type": "execute_result",
          "data": {
            "text/plain": [
              "array([ 40.77479572,  42.34881843,  46.88598973,  48.62111455,\n",
              "        48.47872788,  40.93223281,  41.00594935,  41.10555755,\n",
              "        43.81051434,  46.46823477,  49.75419219,  48.56186826,\n",
              "        46.89833869,  47.81106027,  40.9607629 ,  43.42354164,\n",
              "        45.73842306,  50.68456682,  55.93438623,  61.23507081,\n",
              "        64.74093887,  65.69690225,  67.19535421,  70.53659007,\n",
              "        70.7103611 ,  70.87682107,  64.67179601,  60.59481971,\n",
              "        58.64557987,  60.22489902,  57.02774449,  51.41455774,\n",
              "        45.6718657 ,  49.43161425,  55.64029484,  62.52653961,\n",
              "        69.50934375,  75.09787869,  79.42583768,  82.50984982,\n",
              "        82.52447196,  81.16354799,  76.06556641,  69.92968421,\n",
              "        65.30139281,  65.26697754,  63.2639747 ,  61.72486644,\n",
              "        57.45174048,  46.81073895,  52.61811449,  61.27282931,\n",
              "        63.36325268,  63.36508045,  64.17468931,  65.01430019,\n",
              "        65.89670745,  58.22827033,  67.18117749,  68.2918765 ,\n",
              "        69.37257349,  70.2158399 ,  71.12642141,  71.96968782,\n",
              "        64.03274806,  73.72353573,  85.37452985,  96.85465074,\n",
              "       105.76280064, 111.4005061 , 116.84054645, 116.84054645,\n",
              "       113.15283856, 105.79570046,  86.1756245 ,  80.79772825,\n",
              "        78.83128077,  73.75964566,  64.33477513])"
            ]
          },
          "metadata": {},
          "execution_count": 108
        }
      ]
    }
  ]
}