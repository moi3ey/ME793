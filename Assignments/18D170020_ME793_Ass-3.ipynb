{
  "nbformat": 4,
  "nbformat_minor": 0,
  "metadata": {
    "colab": {
      "name": "Assignment_2.ipynb",
      "provenance": [],
      "collapsed_sections": []
    },
    "kernelspec": {
      "name": "python3",
      "display_name": "Python 3"
    },
    "language_info": {
      "name": "python"
    }
  },
  "cells": [
    {
      "cell_type": "markdown",
      "source": [
        "# ME 793 Assignment 3\n",
        "Moitreyee Sarkar- 18D170020\n"
      ],
      "metadata": {
        "id": "GhoLULTJvgrV"
      }
    },
    {
      "cell_type": "code",
      "source": [
        "#import libraries\n",
        "import numpy as np\n",
        "import pandas as pd\n",
        "import matplotlib.pyplot as plt"
      ],
      "metadata": {
        "id": "d2ZvVAF7w6j2"
      },
      "execution_count": 38,
      "outputs": []
    },
    {
      "cell_type": "code",
      "source": [
        "#mounting drive\n",
        "from google.colab import drive\n",
        "drive.mount('/content/drive')"
      ],
      "metadata": {
        "colab": {
          "base_uri": "https://localhost:8080/"
        },
        "id": "TaJqOThw1KNA",
        "outputId": "30d79b51-4441-43b6-e4c3-e08c76f800e8"
      },
      "execution_count": 37,
      "outputs": [
        {
          "output_type": "stream",
          "name": "stdout",
          "text": [
            "Drive already mounted at /content/drive; to attempt to forcibly remount, call drive.mount(\"/content/drive\", force_remount=True).\n"
          ]
        }
      ]
    },
    {
      "cell_type": "code",
      "source": [
        "#read excel data file\n",
        "dp = pd.read_excel('/content/drive/MyDrive/Periodic_table_data.xlsx')      \n",
        "dp"
      ],
      "metadata": {
        "colab": {
          "base_uri": "https://localhost:8080/",
          "height": 423
        },
        "id": "x5wxLKZzy1Dg",
        "outputId": "90780f75-f94b-4f5d-d875-54d32df65c87"
      },
      "execution_count": 36,
      "outputs": [
        {
          "output_type": "execute_result",
          "data": {
            "text/html": [
              "\n",
              "  <div id=\"df-d0d4b115-f48c-427e-a834-cdad987bb0f8\">\n",
              "    <div class=\"colab-df-container\">\n",
              "      <div>\n",
              "<style scoped>\n",
              "    .dataframe tbody tr th:only-of-type {\n",
              "        vertical-align: middle;\n",
              "    }\n",
              "\n",
              "    .dataframe tbody tr th {\n",
              "        vertical-align: top;\n",
              "    }\n",
              "\n",
              "    .dataframe thead th {\n",
              "        text-align: right;\n",
              "    }\n",
              "</style>\n",
              "<table border=\"1\" class=\"dataframe\">\n",
              "  <thead>\n",
              "    <tr style=\"text-align: right;\">\n",
              "      <th></th>\n",
              "      <th>Symbol</th>\n",
              "      <th>Atomic Number</th>\n",
              "      <th>Electronegativity</th>\n",
              "      <th>Atomic Radii (pm)</th>\n",
              "      <th>Thermal Conductivity</th>\n",
              "      <th>Density</th>\n",
              "      <th>Crystal System</th>\n",
              "    </tr>\n",
              "  </thead>\n",
              "  <tbody>\n",
              "    <tr>\n",
              "      <th>0</th>\n",
              "      <td>H</td>\n",
              "      <td>1</td>\n",
              "      <td>2.20</td>\n",
              "      <td>53.0</td>\n",
              "      <td>0.1805</td>\n",
              "      <td>0.000090</td>\n",
              "      <td>Simple Hexagonal</td>\n",
              "    </tr>\n",
              "    <tr>\n",
              "      <th>1</th>\n",
              "      <td>He</td>\n",
              "      <td>2</td>\n",
              "      <td>NaN</td>\n",
              "      <td>31.0</td>\n",
              "      <td>0.1513</td>\n",
              "      <td>0.000179</td>\n",
              "      <td>Face Centered Cubic</td>\n",
              "    </tr>\n",
              "    <tr>\n",
              "      <th>2</th>\n",
              "      <td>Li</td>\n",
              "      <td>3</td>\n",
              "      <td>0.98</td>\n",
              "      <td>167.0</td>\n",
              "      <td>85.0000</td>\n",
              "      <td>0.534000</td>\n",
              "      <td>Body Centered Cubic</td>\n",
              "    </tr>\n",
              "    <tr>\n",
              "      <th>3</th>\n",
              "      <td>Be</td>\n",
              "      <td>4</td>\n",
              "      <td>1.57</td>\n",
              "      <td>112.0</td>\n",
              "      <td>190.0000</td>\n",
              "      <td>1.850000</td>\n",
              "      <td>Simple Hexagonal</td>\n",
              "    </tr>\n",
              "    <tr>\n",
              "      <th>4</th>\n",
              "      <td>B</td>\n",
              "      <td>5</td>\n",
              "      <td>2.04</td>\n",
              "      <td>87.0</td>\n",
              "      <td>27.0000</td>\n",
              "      <td>2.340000</td>\n",
              "      <td>Simple Trigonal</td>\n",
              "    </tr>\n",
              "    <tr>\n",
              "      <th>...</th>\n",
              "      <td>...</td>\n",
              "      <td>...</td>\n",
              "      <td>...</td>\n",
              "      <td>...</td>\n",
              "      <td>...</td>\n",
              "      <td>...</td>\n",
              "      <td>...</td>\n",
              "    </tr>\n",
              "    <tr>\n",
              "      <th>113</th>\n",
              "      <td>Fl</td>\n",
              "      <td>114</td>\n",
              "      <td>NaN</td>\n",
              "      <td>NaN</td>\n",
              "      <td>NaN</td>\n",
              "      <td>NaN</td>\n",
              "      <td>NaN</td>\n",
              "    </tr>\n",
              "    <tr>\n",
              "      <th>114</th>\n",
              "      <td>Mc</td>\n",
              "      <td>115</td>\n",
              "      <td>NaN</td>\n",
              "      <td>NaN</td>\n",
              "      <td>NaN</td>\n",
              "      <td>NaN</td>\n",
              "      <td>NaN</td>\n",
              "    </tr>\n",
              "    <tr>\n",
              "      <th>115</th>\n",
              "      <td>Lv</td>\n",
              "      <td>116</td>\n",
              "      <td>NaN</td>\n",
              "      <td>NaN</td>\n",
              "      <td>NaN</td>\n",
              "      <td>NaN</td>\n",
              "      <td>NaN</td>\n",
              "    </tr>\n",
              "    <tr>\n",
              "      <th>116</th>\n",
              "      <td>Ts</td>\n",
              "      <td>117</td>\n",
              "      <td>NaN</td>\n",
              "      <td>NaN</td>\n",
              "      <td>NaN</td>\n",
              "      <td>NaN</td>\n",
              "      <td>NaN</td>\n",
              "    </tr>\n",
              "    <tr>\n",
              "      <th>117</th>\n",
              "      <td>Og</td>\n",
              "      <td>118</td>\n",
              "      <td>NaN</td>\n",
              "      <td>NaN</td>\n",
              "      <td>NaN</td>\n",
              "      <td>NaN</td>\n",
              "      <td>Face Centered Cubic</td>\n",
              "    </tr>\n",
              "  </tbody>\n",
              "</table>\n",
              "<p>118 rows × 7 columns</p>\n",
              "</div>\n",
              "      <button class=\"colab-df-convert\" onclick=\"convertToInteractive('df-d0d4b115-f48c-427e-a834-cdad987bb0f8')\"\n",
              "              title=\"Convert this dataframe to an interactive table.\"\n",
              "              style=\"display:none;\">\n",
              "        \n",
              "  <svg xmlns=\"http://www.w3.org/2000/svg\" height=\"24px\"viewBox=\"0 0 24 24\"\n",
              "       width=\"24px\">\n",
              "    <path d=\"M0 0h24v24H0V0z\" fill=\"none\"/>\n",
              "    <path d=\"M18.56 5.44l.94 2.06.94-2.06 2.06-.94-2.06-.94-.94-2.06-.94 2.06-2.06.94zm-11 1L8.5 8.5l.94-2.06 2.06-.94-2.06-.94L8.5 2.5l-.94 2.06-2.06.94zm10 10l.94 2.06.94-2.06 2.06-.94-2.06-.94-.94-2.06-.94 2.06-2.06.94z\"/><path d=\"M17.41 7.96l-1.37-1.37c-.4-.4-.92-.59-1.43-.59-.52 0-1.04.2-1.43.59L10.3 9.45l-7.72 7.72c-.78.78-.78 2.05 0 2.83L4 21.41c.39.39.9.59 1.41.59.51 0 1.02-.2 1.41-.59l7.78-7.78 2.81-2.81c.8-.78.8-2.07 0-2.86zM5.41 20L4 18.59l7.72-7.72 1.47 1.35L5.41 20z\"/>\n",
              "  </svg>\n",
              "      </button>\n",
              "      \n",
              "  <style>\n",
              "    .colab-df-container {\n",
              "      display:flex;\n",
              "      flex-wrap:wrap;\n",
              "      gap: 12px;\n",
              "    }\n",
              "\n",
              "    .colab-df-convert {\n",
              "      background-color: #E8F0FE;\n",
              "      border: none;\n",
              "      border-radius: 50%;\n",
              "      cursor: pointer;\n",
              "      display: none;\n",
              "      fill: #1967D2;\n",
              "      height: 32px;\n",
              "      padding: 0 0 0 0;\n",
              "      width: 32px;\n",
              "    }\n",
              "\n",
              "    .colab-df-convert:hover {\n",
              "      background-color: #E2EBFA;\n",
              "      box-shadow: 0px 1px 2px rgba(60, 64, 67, 0.3), 0px 1px 3px 1px rgba(60, 64, 67, 0.15);\n",
              "      fill: #174EA6;\n",
              "    }\n",
              "\n",
              "    [theme=dark] .colab-df-convert {\n",
              "      background-color: #3B4455;\n",
              "      fill: #D2E3FC;\n",
              "    }\n",
              "\n",
              "    [theme=dark] .colab-df-convert:hover {\n",
              "      background-color: #434B5C;\n",
              "      box-shadow: 0px 1px 3px 1px rgba(0, 0, 0, 0.15);\n",
              "      filter: drop-shadow(0px 1px 2px rgba(0, 0, 0, 0.3));\n",
              "      fill: #FFFFFF;\n",
              "    }\n",
              "  </style>\n",
              "\n",
              "      <script>\n",
              "        const buttonEl =\n",
              "          document.querySelector('#df-d0d4b115-f48c-427e-a834-cdad987bb0f8 button.colab-df-convert');\n",
              "        buttonEl.style.display =\n",
              "          google.colab.kernel.accessAllowed ? 'block' : 'none';\n",
              "\n",
              "        async function convertToInteractive(key) {\n",
              "          const element = document.querySelector('#df-d0d4b115-f48c-427e-a834-cdad987bb0f8');\n",
              "          const dataTable =\n",
              "            await google.colab.kernel.invokeFunction('convertToInteractive',\n",
              "                                                     [key], {});\n",
              "          if (!dataTable) return;\n",
              "\n",
              "          const docLinkHtml = 'Like what you see? Visit the ' +\n",
              "            '<a target=\"_blank\" href=https://colab.research.google.com/notebooks/data_table.ipynb>data table notebook</a>'\n",
              "            + ' to learn more about interactive tables.';\n",
              "          element.innerHTML = '';\n",
              "          dataTable['output_type'] = 'display_data';\n",
              "          await google.colab.output.renderOutput(dataTable, element);\n",
              "          const docLink = document.createElement('div');\n",
              "          docLink.innerHTML = docLinkHtml;\n",
              "          element.appendChild(docLink);\n",
              "        }\n",
              "      </script>\n",
              "    </div>\n",
              "  </div>\n",
              "  "
            ],
            "text/plain": [
              "    Symbol  Atomic Number  ...   Density       Crystal System\n",
              "0        H              1  ...  0.000090     Simple Hexagonal\n",
              "1       He              2  ...  0.000179  Face Centered Cubic\n",
              "2       Li              3  ...  0.534000  Body Centered Cubic\n",
              "3       Be              4  ...  1.850000     Simple Hexagonal\n",
              "4        B              5  ...  2.340000      Simple Trigonal\n",
              "..     ...            ...  ...       ...                  ...\n",
              "113     Fl            114  ...       NaN                  NaN\n",
              "114     Mc            115  ...       NaN                  NaN\n",
              "115     Lv            116  ...       NaN                  NaN\n",
              "116     Ts            117  ...       NaN                  NaN\n",
              "117     Og            118  ...       NaN  Face Centered Cubic\n",
              "\n",
              "[118 rows x 7 columns]"
            ]
          },
          "metadata": {},
          "execution_count": 36
        }
      ]
    },
    {
      "cell_type": "code",
      "source": [
        "print(\"Total no. of rows:\", dp.shape[0])\n",
        "print(\"Total no. of columns:\", dp.shape[1])"
      ],
      "metadata": {
        "colab": {
          "base_uri": "https://localhost:8080/"
        },
        "id": "J_8BpFmQ-hQw",
        "outputId": "f26cc909-7ca9-47ed-d6b5-b74a7e87aca4"
      },
      "execution_count": 39,
      "outputs": [
        {
          "output_type": "stream",
          "name": "stdout",
          "text": [
            "Total no. of rows: 118\n",
            "Total no. of columns: 7\n"
          ]
        }
      ]
    },
    {
      "cell_type": "code",
      "source": [
        "dp = dp.dropna(subset=['Crystal System'])\n",
        "dp.info()\n",
        "print(\"No. of rows after dropping those with no crystal system data:\", dp.shape[0])"
      ],
      "metadata": {
        "id": "h4clCBHf-hTo",
        "colab": {
          "base_uri": "https://localhost:8080/"
        },
        "outputId": "734beb0a-682e-4f8a-d901-b76be7868357"
      },
      "execution_count": 40,
      "outputs": [
        {
          "output_type": "stream",
          "name": "stdout",
          "text": [
            "<class 'pandas.core.frame.DataFrame'>\n",
            "Int64Index: 113 entries, 0 to 117\n",
            "Data columns (total 7 columns):\n",
            " #   Column                Non-Null Count  Dtype  \n",
            "---  ------                --------------  -----  \n",
            " 0   Symbol                113 non-null    object \n",
            " 1   Atomic Number         113 non-null    int64  \n",
            " 2   Electronegativity     96 non-null     float64\n",
            " 3   Atomic Radii (pm)     86 non-null     float64\n",
            " 4   Thermal Conductivity  94 non-null     float64\n",
            " 5   Density               105 non-null    float64\n",
            " 6   Crystal System        113 non-null    object \n",
            "dtypes: float64(4), int64(1), object(2)\n",
            "memory usage: 7.1+ KB\n",
            "No. of rows after dropping those with no crystal system data: 113\n"
          ]
        }
      ]
    },
    {
      "cell_type": "markdown",
      "source": [
        "For electronegativity, raddi, thermal conductivity and density, do the following analysis:\n",
        "\n",
        "• Plot these values on the Y-axis vs. elements on the X-axis."
      ],
      "metadata": {
        "id": "KA2j7uWQtfI6"
      }
    },
    {
      "cell_type": "code",
      "source": [
        "# Plotting eletronegativity v/s Elements\n",
        "dp_en = dp[dp[\"Electronegativity\"].notnull()]\n",
        "plt.plot(dp_en['Atomic Number'], dp_en['Electronegativity'])"
      ],
      "metadata": {
        "colab": {
          "base_uri": "https://localhost:8080/",
          "height": 282
        },
        "id": "H7KmMgj_-hXA",
        "outputId": "76f08fb4-0194-4be3-ab9a-2f4b02218cb8"
      },
      "execution_count": 41,
      "outputs": [
        {
          "output_type": "execute_result",
          "data": {
            "text/plain": [
              "[<matplotlib.lines.Line2D at 0x7f88f87af490>]"
            ]
          },
          "metadata": {},
          "execution_count": 41
        },
        {
          "output_type": "display_data",
          "data": {
            "image/png": "[encoded data removed]",
            "text/plain": [
              "<Figure size 432x288 with 1 Axes>"
            ]
          },
          "metadata": {
            "needs_background": "light"
          }
        }
      ]
    },
    {
      "cell_type": "code",
      "source": [
        "# Plotting radii v/s Elements\n",
        "dp_rad = dp[dp[\"Atomic Radii (pm)\"].notnull()]\n",
        "plt.plot(dp_rad['Atomic Number'], dp_rad['Atomic Radii (pm)'])"
      ],
      "metadata": {
        "colab": {
          "base_uri": "https://localhost:8080/",
          "height": 282
        },
        "id": "ciBwfjGnw78q",
        "outputId": "26f5e246-a3b9-4aa5-dd92-18bc2589eb80"
      },
      "execution_count": 42,
      "outputs": [
        {
          "output_type": "execute_result",
          "data": {
            "text/plain": [
              "[<matplotlib.lines.Line2D at 0x7f88f874f410>]"
            ]
          },
          "metadata": {},
          "execution_count": 42
        },
        {
          "output_type": "display_data",
          "data": {
            "image/png": "[encoded data removed]",
            "text/plain": [
              "<Figure size 432x288 with 1 Axes>"
            ]
          },
          "metadata": {
            "needs_background": "light"
          }
        }
      ]
    },
    {
      "cell_type": "code",
      "source": [
        "# Plotting thermal conductivity v/s Elements\n",
        "dp_tc = dp[dp['Thermal Conductivity'].notnull()]\n",
        "plt.plot(dp_tc['Atomic Number'], dp_tc['Thermal Conductivity'])"
      ],
      "metadata": {
        "colab": {
          "base_uri": "https://localhost:8080/",
          "height": 282
        },
        "id": "iSppRzuIyNNg",
        "outputId": "33100a41-778a-48f2-bc05-1f3dc43af8ba"
      },
      "execution_count": 43,
      "outputs": [
        {
          "output_type": "execute_result",
          "data": {
            "text/plain": [
              "[<matplotlib.lines.Line2D at 0x7f88f864cbd0>]"
            ]
          },
          "metadata": {},
          "execution_count": 43
        },
        {
          "output_type": "display_data",
          "data": {
            "image/png": "[encoded data removed]",
            "text/plain": [
              "<Figure size 432x288 with 1 Axes>"
            ]
          },
          "metadata": {
            "needs_background": "light"
          }
        }
      ]
    },
    {
      "cell_type": "code",
      "source": [
        "# Plotting Density v/s Elements\n",
        "dp_den = dp[dp['Density'].notnull()]\n",
        "plt.plot(dp_den['Atomic Number'], dp_den['Density'])"
      ],
      "metadata": {
        "colab": {
          "base_uri": "https://localhost:8080/",
          "height": 282
        },
        "id": "rLkhgFwO50h7",
        "outputId": "9daf28a8-db9b-44bc-8bf3-51a920fca0c9"
      },
      "execution_count": 44,
      "outputs": [
        {
          "output_type": "execute_result",
          "data": {
            "text/plain": [
              "[<matplotlib.lines.Line2D at 0x7f88f862f450>]"
            ]
          },
          "metadata": {},
          "execution_count": 44
        },
        {
          "output_type": "display_data",
          "data": {
            "image/png": "[encoded data removed]",
            "text/plain": [
              "<Figure size 432x288 with 1 Axes>"
            ]
          },
          "metadata": {
            "needs_background": "light"
          }
        }
      ]
    },
    {
      "cell_type": "markdown",
      "source": [
        "• Arrange in increasing order, divide the span of the values of each of these into 10 equal size bins,\n",
        "count the number of elements in each bin and plot number of elements on the Y-axis vs. bins on the\n",
        "X-axis."
      ],
      "metadata": {
        "id": "gs70joNVy7yh"
      }
    },
    {
      "cell_type": "code",
      "source": [
        "def bin_counts(data, col):\n",
        "    data = data.sort_values(by=[col])\n",
        "    col_range = data[col].max() - data[col].min()\n",
        "    bin_size = col_range/10\n",
        "    bins = []\n",
        "    for i in list(np.arange(data[col].min(), data[col].max(), bin_size)):\n",
        "        if i+bin_size > data[col].max():\n",
        "            bins.append([i, data[col].max()])\n",
        "            break\n",
        "        else:\n",
        "            bins.append([i, i+bin_size])\n",
        "    counts = [0]*10\n",
        "    for i, bin_ in enumerate(bins):\n",
        "        idx = 0\n",
        "        for j, val in enumerate(data[col][idx:]):\n",
        "            if val >= bin_[0] and val < bin_[1]:\n",
        "                counts[i] += 1\n",
        "            if val > bin_[1]:\n",
        "                idx = j\n",
        "                break\n",
        "    counts[i] += 1 # to add the element count having the maximum value\n",
        "    return bins, counts"
      ],
      "metadata": {
        "id": "RwVffnNKy_kl"
      },
      "execution_count": 45,
      "outputs": []
    },
    {
      "cell_type": "code",
      "source": [
        "# Bins for electronegativity values\n",
        "en_bins, en_counts = bin_counts(dp, 'Electronegativity')\n",
        "print(en_bins)\n",
        "plt.plot(np.arange(1,11,1), en_counts)"
      ],
      "metadata": {
        "colab": {
          "base_uri": "https://localhost:8080/",
          "height": 320
        },
        "id": "PfAO6g6GzGzv",
        "outputId": "2e68c03a-14ea-48e7-ea46-a7dda85625d4"
      },
      "execution_count": 46,
      "outputs": [
        {
          "output_type": "stream",
          "name": "stdout",
          "text": [
            "[[0.7, 1.028], [1.028, 1.356], [1.356, 1.6840000000000002], [1.6840000000000002, 2.012], [2.0120000000000005, 2.3400000000000003], [2.3400000000000003, 2.668], [2.668, 2.996], [2.9960000000000004, 3.3240000000000003], [3.3240000000000007, 3.6520000000000006], [3.652000000000001, 3.98]]\n"
          ]
        },
        {
          "output_type": "execute_result",
          "data": {
            "text/plain": [
              "[<matplotlib.lines.Line2D at 0x7f88f858c9d0>]"
            ]
          },
          "metadata": {},
          "execution_count": 46
        },
        {
          "output_type": "display_data",
          "data": {
            "image/png": "[encoded data removed]",
            "text/plain": [
              "<Figure size 432x288 with 1 Axes>"
            ]
          },
          "metadata": {
            "needs_background": "light"
          }
        }
      ]
    },
    {
      "cell_type": "code",
      "source": [
        "# Bins for Atomic Radii Values\n",
        "ar_bins, ar_counts = bin_counts(dp, 'Atomic Radii (pm)')\n",
        "print(ar_bins)\n",
        "plt.plot(np.arange(1,11,1), ar_counts)"
      ],
      "metadata": {
        "colab": {
          "base_uri": "https://localhost:8080/",
          "height": 320
        },
        "id": "6i6Ueh5BzaJi",
        "outputId": "476cf38e-ccf0-4d52-8377-40eafee520a0"
      },
      "execution_count": 47,
      "outputs": [
        {
          "output_type": "stream",
          "name": "stdout",
          "text": [
            "[[31.0, 57.7], [57.7, 84.4], [84.4, 111.10000000000001], [111.10000000000001, 137.8], [137.8, 164.5], [164.5, 191.2], [191.20000000000002, 217.9], [217.90000000000003, 244.60000000000002], [244.60000000000002, 271.3], [271.3, 298.0]]\n"
          ]
        },
        {
          "output_type": "execute_result",
          "data": {
            "text/plain": [
              "[<matplotlib.lines.Line2D at 0x7f88f856e710>]"
            ]
          },
          "metadata": {},
          "execution_count": 47
        },
        {
          "output_type": "display_data",
          "data": {
            "image/png": "[encoded data removed]",
            "text/plain": [
              "<Figure size 432x288 with 1 Axes>"
            ]
          },
          "metadata": {
            "needs_background": "light"
          }
        }
      ]
    },
    {
      "cell_type": "code",
      "source": [
        "# Bins for Thermal Conductivity values\n",
        "tc_bins, tc_counts = bin_counts(dp, 'Thermal Conductivity')\n",
        "print(tc_bins)\n",
        "plt.plot(np.arange(1,11,1), tc_counts)"
      ],
      "metadata": {
        "colab": {
          "base_uri": "https://localhost:8080/",
          "height": 320
        },
        "id": "mJ5OSN93zekZ",
        "outputId": "1767a785-bb11-4e26-9ec3-329f4d195257"
      },
      "execution_count": 48,
      "outputs": [
        {
          "output_type": "stream",
          "name": "stdout",
          "text": [
            "[[0.00361, 43.003249000000004], [43.003249000000004, 86.00288800000001], [86.002888, 129.002527], [129.00252700000001, 172.00216600000002], [172.00216600000002, 215.00180500000002], [215.00180500000002, 258.001444], [258.001444, 301.001083], [301.001083, 344.000722], [344.000722, 387.000361], [387.000361, 430.0]]\n"
          ]
        },
        {
          "output_type": "execute_result",
          "data": {
            "text/plain": [
              "[<matplotlib.lines.Line2D at 0x7f88f8aa58d0>]"
            ]
          },
          "metadata": {},
          "execution_count": 48
        },
        {
          "output_type": "display_data",
          "data": {
            "image/png": "[encoded data removed]",
            "text/plain": [
              "<Figure size 432x288 with 1 Axes>"
            ]
          },
          "metadata": {
            "needs_background": "light"
          }
        }
      ]
    },
    {
      "cell_type": "code",
      "source": [
        "# Bins for Density values\n",
        "d_bins, d_counts = bin_counts(dp, 'Density')\n",
        "print(d_bins)\n",
        "plt.plot(np.arange(1,11,1), d_counts)"
      ],
      "metadata": {
        "colab": {
          "base_uri": "https://localhost:8080/",
          "height": 320
        },
        "id": "EVErbkV6zi05",
        "outputId": "94be6d80-ec61-4ae3-cf0a-5ebd0a289a46"
      },
      "execution_count": 49,
      "outputs": [
        {
          "output_type": "stream",
          "name": "stdout",
          "text": [
            "[[8.99e-05, 4.10008091], [4.10008091, 8.20007192], [8.200071920000001, 12.300062930000001], [12.300062930000001, 16.40005394], [16.40005394, 20.50004495], [20.50004495, 24.60003596], [24.60003596, 28.70002697], [28.70002697, 32.80001798], [32.80001798, 36.90000899], [36.900008989999996, 41.0]]\n"
          ]
        },
        {
          "output_type": "execute_result",
          "data": {
            "text/plain": [
              "[<matplotlib.lines.Line2D at 0x7f88f8940fd0>]"
            ]
          },
          "metadata": {},
          "execution_count": 49
        },
        {
          "output_type": "display_data",
          "data": {
            "image/png": "[encoded data removed]",
            "text/plain": [
              "<Figure size 432x288 with 1 Axes>"
            ]
          },
          "metadata": {
            "needs_background": "light"
          }
        }
      ]
    },
    {
      "cell_type": "markdown",
      "source": [
        "Make bins of crystal systems, count the number of elements falling in each crystal system and plot the\n",
        "number of elements in each bin on Y-axis vs. bin on the X-axis. Analyze and describe your observations\n",
        "in the context of probability distributions.\n"
      ],
      "metadata": {
        "id": "8ghjYMhVz9TR"
      }
    },
    {
      "cell_type": "code",
      "source": [
        "cs_counts = dp['Crystal System'].value_counts()\n",
        "cs_df = pd.DataFrame(cs_counts)\n",
        "cs_df"
      ],
      "metadata": {
        "colab": {
          "base_uri": "https://localhost:8080/",
          "height": 457
        },
        "id": "UA-JOdux0BXj",
        "outputId": "c228e9b7-7dc1-4096-8f96-e4dbe7b440fc"
      },
      "execution_count": 50,
      "outputs": [
        {
          "output_type": "execute_result",
          "data": {
            "text/html": [
              "\n",
              "  <div id=\"df-1d16cbfa-e072-40d0-a66b-c43663ef2562\">\n",
              "    <div class=\"colab-df-container\">\n",
              "      <div>\n",
              "<style scoped>\n",
              "    .dataframe tbody tr th:only-of-type {\n",
              "        vertical-align: middle;\n",
              "    }\n",
              "\n",
              "    .dataframe tbody tr th {\n",
              "        vertical-align: top;\n",
              "    }\n",
              "\n",
              "    .dataframe thead th {\n",
              "        text-align: right;\n",
              "    }\n",
              "</style>\n",
              "<table border=\"1\" class=\"dataframe\">\n",
              "  <thead>\n",
              "    <tr style=\"text-align: right;\">\n",
              "      <th></th>\n",
              "      <th>Crystal System</th>\n",
              "    </tr>\n",
              "  </thead>\n",
              "  <tbody>\n",
              "    <tr>\n",
              "      <th>Simple Hexagonal</th>\n",
              "      <td>39</td>\n",
              "    </tr>\n",
              "    <tr>\n",
              "      <th>Face Centered Cubic</th>\n",
              "      <td>28</td>\n",
              "    </tr>\n",
              "    <tr>\n",
              "      <th>Body Centered Cubic</th>\n",
              "      <td>22</td>\n",
              "    </tr>\n",
              "    <tr>\n",
              "      <th>Simple Trigonal</th>\n",
              "      <td>6</td>\n",
              "    </tr>\n",
              "    <tr>\n",
              "      <th>Base Centered Orthorhombic</th>\n",
              "      <td>5</td>\n",
              "    </tr>\n",
              "    <tr>\n",
              "      <th>Base Centered Monoclinic</th>\n",
              "      <td>3</td>\n",
              "    </tr>\n",
              "    <tr>\n",
              "      <th>Centered Tetragonal</th>\n",
              "      <td>3</td>\n",
              "    </tr>\n",
              "    <tr>\n",
              "      <th>Simple Monoclinic</th>\n",
              "      <td>2</td>\n",
              "    </tr>\n",
              "    <tr>\n",
              "      <th>Tetrahedral Packing</th>\n",
              "      <td>1</td>\n",
              "    </tr>\n",
              "    <tr>\n",
              "      <th>Simple Triclinic</th>\n",
              "      <td>1</td>\n",
              "    </tr>\n",
              "    <tr>\n",
              "      <th>Face Centered Orthorhombic</th>\n",
              "      <td>1</td>\n",
              "    </tr>\n",
              "    <tr>\n",
              "      <th>Simple Cubic</th>\n",
              "      <td>1</td>\n",
              "    </tr>\n",
              "    <tr>\n",
              "      <th>Simple Orthorhombic</th>\n",
              "      <td>1</td>\n",
              "    </tr>\n",
              "  </tbody>\n",
              "</table>\n",
              "</div>\n",
              "      <button class=\"colab-df-convert\" onclick=\"convertToInteractive('df-1d16cbfa-e072-40d0-a66b-c43663ef2562')\"\n",
              "              title=\"Convert this dataframe to an interactive table.\"\n",
              "              style=\"display:none;\">\n",
              "        \n",
              "  <svg xmlns=\"http://www.w3.org/2000/svg\" height=\"24px\"viewBox=\"0 0 24 24\"\n",
              "       width=\"24px\">\n",
              "    <path d=\"M0 0h24v24H0V0z\" fill=\"none\"/>\n",
              "    <path d=\"M18.56 5.44l.94 2.06.94-2.06 2.06-.94-2.06-.94-.94-2.06-.94 2.06-2.06.94zm-11 1L8.5 8.5l.94-2.06 2.06-.94-2.06-.94L8.5 2.5l-.94 2.06-2.06.94zm10 10l.94 2.06.94-2.06 2.06-.94-2.06-.94-.94-2.06-.94 2.06-2.06.94z\"/><path d=\"M17.41 7.96l-1.37-1.37c-.4-.4-.92-.59-1.43-.59-.52 0-1.04.2-1.43.59L10.3 9.45l-7.72 7.72c-.78.78-.78 2.05 0 2.83L4 21.41c.39.39.9.59 1.41.59.51 0 1.02-.2 1.41-.59l7.78-7.78 2.81-2.81c.8-.78.8-2.07 0-2.86zM5.41 20L4 18.59l7.72-7.72 1.47 1.35L5.41 20z\"/>\n",
              "  </svg>\n",
              "      </button>\n",
              "      \n",
              "  <style>\n",
              "    .colab-df-container {\n",
              "      display:flex;\n",
              "      flex-wrap:wrap;\n",
              "      gap: 12px;\n",
              "    }\n",
              "\n",
              "    .colab-df-convert {\n",
              "      background-color: #E8F0FE;\n",
              "      border: none;\n",
              "      border-radius: 50%;\n",
              "      cursor: pointer;\n",
              "      display: none;\n",
              "      fill: #1967D2;\n",
              "      height: 32px;\n",
              "      padding: 0 0 0 0;\n",
              "      width: 32px;\n",
              "    }\n",
              "\n",
              "    .colab-df-convert:hover {\n",
              "      background-color: #E2EBFA;\n",
              "      box-shadow: 0px 1px 2px rgba(60, 64, 67, 0.3), 0px 1px 3px 1px rgba(60, 64, 67, 0.15);\n",
              "      fill: #174EA6;\n",
              "    }\n",
              "\n",
              "    [theme=dark] .colab-df-convert {\n",
              "      background-color: #3B4455;\n",
              "      fill: #D2E3FC;\n",
              "    }\n",
              "\n",
              "    [theme=dark] .colab-df-convert:hover {\n",
              "      background-color: #434B5C;\n",
              "      box-shadow: 0px 1px 3px 1px rgba(0, 0, 0, 0.15);\n",
              "      filter: drop-shadow(0px 1px 2px rgba(0, 0, 0, 0.3));\n",
              "      fill: #FFFFFF;\n",
              "    }\n",
              "  </style>\n",
              "\n",
              "      <script>\n",
              "        const buttonEl =\n",
              "          document.querySelector('#df-1d16cbfa-e072-40d0-a66b-c43663ef2562 button.colab-df-convert');\n",
              "        buttonEl.style.display =\n",
              "          google.colab.kernel.accessAllowed ? 'block' : 'none';\n",
              "\n",
              "        async function convertToInteractive(key) {\n",
              "          const element = document.querySelector('#df-1d16cbfa-e072-40d0-a66b-c43663ef2562');\n",
              "          const dataTable =\n",
              "            await google.colab.kernel.invokeFunction('convertToInteractive',\n",
              "                                                     [key], {});\n",
              "          if (!dataTable) return;\n",
              "\n",
              "          const docLinkHtml = 'Like what you see? Visit the ' +\n",
              "            '<a target=\"_blank\" href=https://colab.research.google.com/notebooks/data_table.ipynb>data table notebook</a>'\n",
              "            + ' to learn more about interactive tables.';\n",
              "          element.innerHTML = '';\n",
              "          dataTable['output_type'] = 'display_data';\n",
              "          await google.colab.output.renderOutput(dataTable, element);\n",
              "          const docLink = document.createElement('div');\n",
              "          docLink.innerHTML = docLinkHtml;\n",
              "          element.appendChild(docLink);\n",
              "        }\n",
              "      </script>\n",
              "    </div>\n",
              "  </div>\n",
              "  "
            ],
            "text/plain": [
              "                            Crystal System\n",
              "Simple Hexagonal                        39\n",
              "Face Centered Cubic                     28\n",
              "Body Centered Cubic                     22\n",
              "Simple Trigonal                          6\n",
              "Base Centered Orthorhombic               5\n",
              "Base Centered Monoclinic                 3\n",
              "Centered Tetragonal                      3\n",
              "Simple Monoclinic                        2\n",
              "Tetrahedral Packing                      1\n",
              "Simple Triclinic                         1\n",
              "Face Centered Orthorhombic               1\n",
              "Simple Cubic                             1\n",
              "Simple Orthorhombic                      1"
            ]
          },
          "metadata": {},
          "execution_count": 50
        }
      ]
    },
    {
      "cell_type": "code",
      "source": [
        "plt.plot(cs_df.index, cs_df['Crystal System'])"
      ],
      "metadata": {
        "colab": {
          "base_uri": "https://localhost:8080/",
          "height": 282
        },
        "id": "dbYMHIiR0Mi7",
        "outputId": "d0b9dd41-a008-4982-ac96-f5f3dcca54d3"
      },
      "execution_count": 51,
      "outputs": [
        {
          "output_type": "execute_result",
          "data": {
            "text/plain": [
              "[<matplotlib.lines.Line2D at 0x7f88f909d110>]"
            ]
          },
          "metadata": {},
          "execution_count": 51
        },
        {
          "output_type": "display_data",
          "data": {
            "image/png": "[encoded data removed]",
            "text/plain": [
              "<Figure size 432x288 with 1 Axes>"
            ]
          },
          "metadata": {
            "needs_background": "light"
          }
        }
      ]
    },
    {
      "cell_type": "markdown",
      "source": [
        "2. If you were to apply PCA on your master data set collected in Q. 1, what could you find? Any interesting trends / observation?"
      ],
      "metadata": {
        "id": "4j0tl6HT0XV1"
      }
    },
    {
      "cell_type": "code",
      "source": [
        ""
      ],
      "metadata": {
        "id": "UZqUZNrH0Wy2"
      },
      "execution_count": null,
      "outputs": []
    },
    {
      "cell_type": "code",
      "source": [
        ""
      ],
      "metadata": {
        "id": "qQiahtRF0Wub"
      },
      "execution_count": null,
      "outputs": []
    }
  ]
}